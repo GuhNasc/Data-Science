{
  "nbformat": 4,
  "nbformat_minor": 0,
  "metadata": {
    "colab": {
      "name": "Amazon Best Selling Books",
      "provenance": [],
      "collapsed_sections": [],
      "toc_visible": true,
      "authorship_tag": "ABX9TyP5JGJQL8DCha1sv29Rr3oX",
      "include_colab_link": true
    },
    "kernelspec": {
      "name": "python3",
      "display_name": "Python 3"
    }
  },
  "cells": [
    {
      "cell_type": "markdown",
      "metadata": {
        "id": "view-in-github",
        "colab_type": "text"
      },
      "source": [
        "<a href=\"https://colab.research.google.com/github/GuhNasc/Data-Science/blob/main/Amazon_Best_Selling_Books.ipynb\" target=\"_parent\"><img src=\"https://colab.research.google.com/assets/colab-badge.svg\" alt=\"Open In Colab\"/></a>"
      ]
    },
    {
      "cell_type": "markdown",
      "metadata": {
        "id": "yr4_cMOv-KlL"
      },
      "source": [
        "# Análise dos Best Sellings da Amazon\r\n",
        "\r\n",
        "A [Amazon]('https://www.amazon.com.br/') é a maior empresa do mundo na venda de eBooks e atualmente oferece diversos produtos e serviços : \r\n",
        "\r\n",
        "* `AmazonPrime`\r\n",
        "* `Amazon Web Services`\r\n",
        "* `Amazon Drives`\r\n",
        "* `Alexa`\r\n",
        "\r\n",
        "A Amazon é, atualmente, a marca mais valiosa do mundo, ultrapassando gigantes como Apple e Google. De acordo com o ranking **BrandZ**, desenvolvido pela agência de pesquisa de marketing Kantar, empresa vale 315,5 bilhões de dólares , o equivalente a mais de R$ 1,2 trilhão, e subiu duas posições em relação ao ano passado. Em pouco mais de duas décadas de existência, a marca mudou o cenário global do varejo online, atuando em diversas áreas.\r\n",
        "\r\n",
        "**Neste notebook , iremos analisar os dados sobre Top Selling Book de 2009 até 2019**"
      ]
    },
    {
      "cell_type": "markdown",
      "metadata": {
        "id": "jCUrEA9VBoun"
      },
      "source": [
        "## Obtenção dos dados\r\n",
        "\r\n",
        "Todos os dados usados aqui foram obtidos através do **Kaggle**\r\n",
        "\r\n"
      ]
    },
    {
      "cell_type": "code",
      "metadata": {
        "id": "ye3mYQ6v7TJ_"
      },
      "source": [
        "# importando as bibliotecas\r\n",
        "import pandas as pd\r\n",
        "import matplotlib.pyplot as plt\r\n",
        "import plotly.express as px\r\n",
        "\r\n",
        "%matplotlib inline"
      ],
      "execution_count": 23,
      "outputs": []
    },
    {
      "cell_type": "code",
      "metadata": {
        "id": "y1azjsy-7-sy"
      },
      "source": [
        "# Importando o arquivo para um DataFrame\r\n",
        "df = pd.read_csv('/content/bestsellers with categories.csv')"
      ],
      "execution_count": 24,
      "outputs": []
    },
    {
      "cell_type": "code",
      "metadata": {
        "colab": {
          "base_uri": "https://localhost:8080/",
          "height": 198
        },
        "id": "V_KGNV3l8LWE",
        "outputId": "14a202a5-8bb6-452f-83ca-de4580bad90f"
      },
      "source": [
        "# Verificando as primeiras entradas\r\n",
        "df.head()"
      ],
      "execution_count": 25,
      "outputs": [
        {
          "output_type": "execute_result",
          "data": {
            "text/html": [
              "<div>\n",
              "<style scoped>\n",
              "    .dataframe tbody tr th:only-of-type {\n",
              "        vertical-align: middle;\n",
              "    }\n",
              "\n",
              "    .dataframe tbody tr th {\n",
              "        vertical-align: top;\n",
              "    }\n",
              "\n",
              "    .dataframe thead th {\n",
              "        text-align: right;\n",
              "    }\n",
              "</style>\n",
              "<table border=\"1\" class=\"dataframe\">\n",
              "  <thead>\n",
              "    <tr style=\"text-align: right;\">\n",
              "      <th></th>\n",
              "      <th>Name</th>\n",
              "      <th>Author</th>\n",
              "      <th>User Rating</th>\n",
              "      <th>Reviews</th>\n",
              "      <th>Price</th>\n",
              "      <th>Year</th>\n",
              "      <th>Genre</th>\n",
              "    </tr>\n",
              "  </thead>\n",
              "  <tbody>\n",
              "    <tr>\n",
              "      <th>0</th>\n",
              "      <td>10-Day Green Smoothie Cleanse</td>\n",
              "      <td>JJ Smith</td>\n",
              "      <td>4.7</td>\n",
              "      <td>17350</td>\n",
              "      <td>8</td>\n",
              "      <td>2016</td>\n",
              "      <td>Non Fiction</td>\n",
              "    </tr>\n",
              "    <tr>\n",
              "      <th>1</th>\n",
              "      <td>11/22/63: A Novel</td>\n",
              "      <td>Stephen King</td>\n",
              "      <td>4.6</td>\n",
              "      <td>2052</td>\n",
              "      <td>22</td>\n",
              "      <td>2011</td>\n",
              "      <td>Fiction</td>\n",
              "    </tr>\n",
              "    <tr>\n",
              "      <th>2</th>\n",
              "      <td>12 Rules for Life: An Antidote to Chaos</td>\n",
              "      <td>Jordan B. Peterson</td>\n",
              "      <td>4.7</td>\n",
              "      <td>18979</td>\n",
              "      <td>15</td>\n",
              "      <td>2018</td>\n",
              "      <td>Non Fiction</td>\n",
              "    </tr>\n",
              "    <tr>\n",
              "      <th>3</th>\n",
              "      <td>1984 (Signet Classics)</td>\n",
              "      <td>George Orwell</td>\n",
              "      <td>4.7</td>\n",
              "      <td>21424</td>\n",
              "      <td>6</td>\n",
              "      <td>2017</td>\n",
              "      <td>Fiction</td>\n",
              "    </tr>\n",
              "    <tr>\n",
              "      <th>4</th>\n",
              "      <td>5,000 Awesome Facts (About Everything!) (Natio...</td>\n",
              "      <td>National Geographic Kids</td>\n",
              "      <td>4.8</td>\n",
              "      <td>7665</td>\n",
              "      <td>12</td>\n",
              "      <td>2019</td>\n",
              "      <td>Non Fiction</td>\n",
              "    </tr>\n",
              "  </tbody>\n",
              "</table>\n",
              "</div>"
            ],
            "text/plain": [
              "                                                Name  ...        Genre\n",
              "0                      10-Day Green Smoothie Cleanse  ...  Non Fiction\n",
              "1                                  11/22/63: A Novel  ...      Fiction\n",
              "2            12 Rules for Life: An Antidote to Chaos  ...  Non Fiction\n",
              "3                             1984 (Signet Classics)  ...      Fiction\n",
              "4  5,000 Awesome Facts (About Everything!) (Natio...  ...  Non Fiction\n",
              "\n",
              "[5 rows x 7 columns]"
            ]
          },
          "metadata": {
            "tags": []
          },
          "execution_count": 25
        }
      ]
    },
    {
      "cell_type": "markdown",
      "metadata": {
        "id": "t7PT1E-n8T8z"
      },
      "source": [
        "## Análise dos dados\r\n",
        "\r\n",
        "Dicionário das váriaveis:\r\n",
        "\r\n",
        "* `Name` - Nome do livro\r\n",
        "* `Author` - Autor do livro\r\n",
        "* `User Rating` - Nota dada pelo usuário\r\n",
        "* `Reviews` - Numero de reviews de cada livro.\r\n",
        "* `Price` - Preço dos livros em dólares\r\n",
        "* `Year` - Ano que o livro foi publicado\r\n",
        "* `Genre` - Genêro do Livro\r\n"
      ]
    },
    {
      "cell_type": "markdown",
      "metadata": {
        "id": "UdkROkcK91E3"
      },
      "source": [
        "### Informações gerais do dataset"
      ]
    },
    {
      "cell_type": "markdown",
      "metadata": {
        "id": "VnkXDCd_Anpi"
      },
      "source": [
        "#### 1-) Quantas Entradas e outliers há no dataset ?"
      ]
    },
    {
      "cell_type": "code",
      "metadata": {
        "colab": {
          "base_uri": "https://localhost:8080/"
        },
        "id": "GdEM5d6y96Wo",
        "outputId": "fa9e05fd-c625-4a7a-dfa5-9660a5947114"
      },
      "source": [
        "## Verificando quantas entradas no dataset \r\n",
        "len(df)"
      ],
      "execution_count": 26,
      "outputs": [
        {
          "output_type": "execute_result",
          "data": {
            "text/plain": [
              "550"
            ]
          },
          "metadata": {
            "tags": []
          },
          "execution_count": 26
        }
      ]
    },
    {
      "cell_type": "code",
      "metadata": {
        "colab": {
          "base_uri": "https://localhost:8080/"
        },
        "id": "mW8GguZ8-uoM",
        "outputId": "6d0d2daa-27d4-4244-a72d-276c9d7986a6"
      },
      "source": [
        "## Verificando se há algum valor nulo\r\n",
        "df.info()"
      ],
      "execution_count": 27,
      "outputs": [
        {
          "output_type": "stream",
          "text": [
            "<class 'pandas.core.frame.DataFrame'>\n",
            "RangeIndex: 550 entries, 0 to 549\n",
            "Data columns (total 7 columns):\n",
            " #   Column       Non-Null Count  Dtype  \n",
            "---  ------       --------------  -----  \n",
            " 0   Name         550 non-null    object \n",
            " 1   Author       550 non-null    object \n",
            " 2   User Rating  550 non-null    float64\n",
            " 3   Reviews      550 non-null    int64  \n",
            " 4   Price        550 non-null    int64  \n",
            " 5   Year         550 non-null    int64  \n",
            " 6   Genre        550 non-null    object \n",
            "dtypes: float64(1), int64(3), object(3)\n",
            "memory usage: 30.2+ KB\n"
          ],
          "name": "stdout"
        }
      ]
    },
    {
      "cell_type": "markdown",
      "metadata": {
        "id": "x7rAPbat-zgI"
      },
      "source": [
        "Como analisamos , o dataset contém 550 linhas (entradas) , também podemos verificar que todas as váriveis tem as 550 linhas , logo **NÃO HÁ VALORES NULOS**"
      ]
    },
    {
      "cell_type": "markdown",
      "metadata": {
        "id": "zkm619xQAx3v"
      },
      "source": [
        "#### 2-) Qual a distribuição das variáveis numéricas ?"
      ]
    },
    {
      "cell_type": "code",
      "metadata": {
        "colab": {
          "base_uri": "https://localhost:8080/",
          "height": 336
        },
        "id": "hwasWMj2A6GF",
        "outputId": "a5441cdd-db99-443a-c8f0-d1cbe618072c"
      },
      "source": [
        "# Plotando histograma das váriaveis numéricas\r\n",
        "df.hist(bins = 15, figsize=(10,5));"
      ],
      "execution_count": 28,
      "outputs": [
        {
          "output_type": "display_data",
          "data": {
            "image/png": "[encoded data removed]",
            "text/plain": [
              "<Figure size 720x360 with 4 Axes>"
            ]
          },
          "metadata": {
            "tags": [],
            "needs_background": "light"
          }
        }
      ]
    },
    {
      "cell_type": "markdown",
      "metadata": {
        "id": "rDtg7LDIBSOr"
      },
      "source": [
        "#### 3-) Qual o genêro com a melhor nota ?"
      ]
    },
    {
      "cell_type": "code",
      "metadata": {
        "colab": {
          "base_uri": "https://localhost:8080/",
          "height": 542
        },
        "id": "UNFJ_2sqBab3",
        "outputId": "80126c44-faff-432d-880a-5acc7ce5645a"
      },
      "source": [
        "## Agrupando os livros pelo genero\r\n",
        "px.bar(df,x='Year',y='User Rating',  color='Genre',barmode= 'group', title=\"Classificação do usuário por ano e por gênero\")"
      ],
      "execution_count": 31,
      "outputs": [
        {
          "output_type": "display_data",
          "data": {
            "text/html": [
              "<html>\n",
              "<head><meta charset=\"utf-8\" /></head>\n",
              "<body>\n",
              "    <div>\n",
              "            <script src=\"https://cdnjs.cloudflare.com/ajax/libs/mathjax/2.7.5/MathJax.js?config=TeX-AMS-MML_SVG\"></script><script type=\"text/javascript\">if (window.MathJax) {MathJax.Hub.Config({SVG: {font: \"STIX-Web\"}});}</script>\n",
              "                <script type=\"text/javascript\">window.PlotlyConfig = {MathJaxConfig: 'local'};</script>\n",
              "        <script src=\"https://cdn.plot.ly/plotly-latest.min.js\"></script>    \n",
              "            <div id=\"070a3756-bda0-46f1-ab74-f48c33cbaf93\" class=\"plotly-graph-div\" style=\"height:525px; width:100%;\"></div>\n",
              "            <script type=\"text/javascript\">\n",
              "                \n",
              "                    window.PLOTLYENV=window.PLOTLYENV || {};\n",
              "                    \n",
              "                if (document.getElementById(\"070a3756-bda0-46f1-ab74-f48c33cbaf93\")) {\n",
              "                    Plotly.newPlot(\n",
              "                        '070a3756-bda0-46f1-ab74-f48c33cbaf93',\n",
              "                        [{\"alignmentgroup\": \"True\", \"hoverlabel\": {\"namelength\": 0}, \"hovertemplate\": \"Genre=Non Fiction<br>Year=%{x}<br>User Rating=%{y}\", \"legendgroup\": \"Genre=Non Fiction\", \"marker\": {\"color\": \"#636efa\"}, \"name\": \"Genre=Non Fiction\", \"offsetgroup\": \"Genre=Non Fiction\", \"orientation\": \"v\", \"showlegend\": true, \"textposition\": \"auto\", \"type\": \"bar\", \"x\": [2016, 2018, 2019, 2018, 2010, 2011, 2009, 2016, 2015, 2015, 2015, 2016, 2015, 2009, 2017, 2010, 2015, 2015, 2012, 2010, 2018, 2019, 2015, 2015, 2016, 2016, 2010, 2016, 2019, 2014, 2016, 2009, 2010, 2011, 2015, 2015, 2013, 2013, 2010, 2010, 2013, 2014, 2019, 2009, 2015, 2010, 2009, 2009, 2011, 2012, 2018, 2019, 2015, 2018, 2018, 2014, 2015, 2016, 2017, 2018, 2010, 2010, 2010, 2013, 2019, 2018, 2019, 2009, 2009, 2019, 2009, 2010, 2011, 2012, 2014, 2019, 2016, 2013, 2015, 2009, 2011, 2012, 2016, 2017, 2018, 2014, 2015, 2016, 2017, 2018, 2019, 2013, 2014, 2015, 2013, 2019, 2011, 2019, 2018, 2019, 2011, 2012, 2013, 2014, 2015, 2016, 2017, 2013, 2012, 2011, 2012, 2014, 2015, 2016, 2018, 2013, 2014, 2015, 2013, 2014, 2015, 2016, 2017, 2013, 2017, 2018, 2009, 2010, 2011, 2018, 2014, 2017, 2009, 2016, 2017, 2018, 2017, 2014, 2015, 2016, 2019, 2019, 2016, 2012, 2017, 2011, 2012, 2017, 2009, 2010, 2018, 2019, 2012, 2013, 2009, 2010, 2011, 2012, 2013, 2014, 2015, 2016, 2017, 2018, 2012, 2013, 2010, 2011, 2018, 2019, 2018, 2019, 2015, 2010, 2018, 2013, 2013, 2011, 2012, 2009, 2010, 2011, 2012, 2013, 2014, 2015, 2016, 2017, 2009, 2010, 2010, 2011, 2011, 2011, 2010, 2011, 2012, 2013, 2014, 2015, 2016, 2017, 2018, 2019, 2009, 2009, 2011, 2012, 2013, 2015, 2016, 2017, 2012, 2010, 2012, 2019, 2009, 2014, 2015, 2011, 2018, 2019, 2016, 2010, 2011, 2009, 2010, 2011, 2012, 2013, 2009, 2013, 2015, 2016, 2017, 2018, 2019, 2010, 2011, 2012, 2017, 2018, 2009, 2011, 2012, 2015, 2016, 2017, 2019, 2009, 2016, 2019, 2010, 2011, 2012, 2013, 2014, 2016, 2013, 2015, 2012, 2018, 2018, 2012, 2010, 2017, 2018, 2019, 2017, 2009, 2019, 2019, 2015, 2016, 2017, 2015, 2013, 2011, 2012, 2012, 2009, 2010, 2014, 2015, 2016, 2017, 2011, 2017, 2009, 2010, 2011, 2012, 2014, 2014, 2019, 2019, 2016, 2017, 2014, 2011, 2012, 2013, 2016, 2018, 2012, 2010, 2016, 2017, 2018, 2019], \"xaxis\": \"x\", \"y\": [4.7, 4.7, 4.8, 4.7, 4.6, 4.6, 4.6, 4.5, 4.6, 4.4, 4.5, 4.8, 4.6, 4.6, 4.7, 4.2, 4.6, 4.6, 4.8, 4.7, 4.8, 4.8, 4.8, 4.7, 4.7, 4.7, 4.5, 4.6, 4.8, 4.5, 4.7, 4.7, 4.7, 4.7, 4.8, 4.8, 4.8, 4.4, 4.6, 4.6, 4.5, 4.5, 4.6, 4.6, 4.6, 4.5, 4.5, 4.3, 4.5, 4.5, 4.7, 4.7, 4.7, 4.4, 4.2, 4.7, 4.7, 4.7, 4.7, 4.7, 4.4, 4.4, 4.5, 4.6, 4.6, 4.6, 4.6, 4.6, 4.6, 4.6, 4.5, 4.5, 4.5, 4.5, 4.6, 4.8, 4.9, 4.8, 4.7, 4.8, 4.7, 4.7, 4.4, 4.4, 4.8, 4.7, 4.7, 4.7, 4.7, 4.7, 4.3, 4.8, 4.8, 4.9, 4.7, 4.8, 4.4, 4.4, 4.4, 4.8, 4.9, 4.9, 4.9, 4.9, 4.9, 4.9, 4.6, 4.5, 4.6, 4.7, 4.7, 4.6, 4.6, 4.8, 4.8, 4.5, 4.5, 4.5, 4.6, 4.6, 4.6, 4.6, 4.6, 4.5, 4.5, 4.4, 4.8, 4.5, 4.2, 4.8, 4.5, 4.7, 4.8, 4.7, 4.7, 4.7, 4.4, 4.6, 4.6, 4.6, 4.8, 4.8, 4.7, 4.6, 4.9, 4.6, 4.6, 4.5, 4.6, 4.6, 4.7, 4.7, 4.3, 4.3, 4.5, 4.5, 4.5, 4.5, 4.5, 4.5, 4.5, 4.5, 4.5, 4.5, 4.6, 4.6, 4.7, 4.7, 4.8, 4.8, 4.8, 4.8, 4.7, 4.7, 4.8, 4.1, 4.6, 4.6, 4.6, 4.0, 4.0, 4.0, 4.0, 4.0, 4.0, 4.0, 4.0, 4.0, 4.5, 4.6, 4.4, 4.4, 4.3, 4.3, 4.7, 4.7, 4.7, 4.7, 4.7, 4.8, 4.8, 4.8, 4.8, 4.8, 4.8, 4.6, 4.6, 4.6, 4.6, 4.7, 4.7, 4.7, 4.6, 4.7, 4.2, 4.8, 4.7, 4.8, 4.8, 4.7, 4.3, 4.3, 4.8, 4.4, 4.1, 4.6, 4.6, 4.6, 4.6, 4.6, 4.6, 4.7, 4.7, 4.7, 4.7, 4.7, 4.7, 4.7, 4.7, 4.7, 4.3, 4.3, 4.7, 4.4, 4.4, 4.5, 4.5, 4.5, 4.5, 4.8, 4.9, 4.6, 4.4, 4.4, 4.4, 4.4, 4.4, 4.3, 4.8, 4.8, 4.8, 4.5, 4.4, 4.6, 4.6, 4.6, 4.6, 4.6, 4.7, 4.4, 4.7, 4.7, 4.6, 4.6, 4.6, 4.7, 4.7, 4.6, 4.6, 4.5, 4.3, 4.3, 4.6, 4.6, 4.6, 4.6, 4.3, 4.6, 4.5, 4.8, 4.8, 4.8, 4.8, 4.8, 4.9, 4.8, 4.7, 4.6, 4.7, 4.4, 4.4, 4.4, 4.8, 4.6, 4.4, 4.2, 4.7, 4.7, 4.7, 4.7], \"yaxis\": \"y\"}, {\"alignmentgroup\": \"True\", \"hoverlabel\": {\"namelength\": 0}, \"hovertemplate\": \"Genre=Fiction<br>Year=%{x}<br>User Rating=%{y}\", \"legendgroup\": \"Genre=Fiction\", \"marker\": {\"color\": \"#EF553B\"}, \"name\": \"Genre=Fiction\", \"offsetgroup\": \"Genre=Fiction\", \"orientation\": \"v\", \"showlegend\": true, \"textposition\": \"auto\", \"type\": \"bar\", \"x\": [2011, 2017, 2011, 2014, 2017, 2016, 2017, 2018, 2014, 2015, 2013, 2013, 2009, 2017, 2019, 2011, 2010, 2011, 2012, 2018, 2010, 2011, 2009, 2010, 2011, 2015, 2016, 2017, 2018, 2013, 2009, 2014, 2013, 2014, 2014, 2013, 2009, 2018, 2017, 2018, 2019, 2019, 2019, 2018, 2016, 2009, 2009, 2016, 2018, 2016, 2012, 2012, 2012, 2013, 2012, 2014, 2011, 2012, 2013, 2015, 2016, 2017, 2018, 2019, 2015, 2011, 2012, 2013, 2014, 2017, 2018, 2019, 2012, 2013, 2015, 2016, 2016, 2019, 2017, 2016, 2016, 2009, 2017, 2019, 2014, 2013, 2011, 2014, 2013, 2018, 2010, 2014, 2018, 2014, 2014, 2015, 2010, 2011, 2012, 2009, 2012, 2013, 2014, 2015, 2016, 2017, 2018, 2019, 2015, 2009, 2017, 2014, 2010, 2017, 2018, 2019, 2016, 2017, 2017, 2018, 2013, 2014, 2010, 2009, 2019, 2013, 2014, 2010, 2011, 2014, 2013, 2014, 2014, 2015, 2012, 2010, 2013, 2014, 2015, 2009, 2012, 2013, 2014, 2014, 2017, 2015, 2016, 2010, 2011, 2010, 2009, 2009, 2010, 2016, 2017, 2013, 2014, 2012, 2013, 2014, 2019, 2009, 2017, 2012, 2018, 2009, 2010, 2011, 2011, 2013, 2010, 2011, 2012, 2011, 2012, 2009, 2010, 2013, 2011, 2010, 2009, 2012, 2015, 2014, 2018, 2015, 2016, 2011, 2017, 2018, 2018, 2012, 2010, 2012, 2009, 2017, 2010, 2019, 2011, 2012, 2011, 2009, 2009, 2010, 2013, 2014, 2015, 2016, 2017, 2018, 2019, 2016, 2017, 2018, 2019, 2018, 2019, 2017, 2013, 2014, 2015, 2016, 2019, 2010, 2009, 2014, 2009, 2009, 2011, 2015, 2019, 2019, 2009, 2012, 2013, 2014, 2015, 2016, 2017, 2019], \"xaxis\": \"x\", \"y\": [4.6, 4.7, 4.4, 4.7, 4.7, 4.6, 4.6, 4.5, 4.6, 4.6, 3.9, 4.3, 4.6, 4.9, 4.9, 4.8, 4.7, 4.7, 4.7, 4.3, 4.6, 4.6, 4.6, 4.3, 4.2, 4.8, 4.8, 4.8, 4.8, 4.8, 4.8, 4.8, 4.6, 4.6, 4.5, 4.7, 4.8, 4.9, 4.9, 4.9, 4.9, 4.9, 4.9, 4.9, 4.8, 4.7, 4.7, 4.6, 4.6, 4.7, 4.4, 4.5, 3.8, 3.8, 4.5, 4.7, 4.6, 4.6, 4.6, 4.8, 4.8, 4.8, 4.8, 4.8, 3.6, 4.8, 4.0, 4.0, 4.0, 4.8, 4.8, 4.8, 4.9, 4.9, 4.4, 4.9, 4.0, 4.9, 4.9, 4.9, 4.8, 4.6, 4.8, 4.8, 4.3, 4.1, 4.6, 4.6, 4.5, 4.9, 4.1, 4.9, 4.5, 4.5, 4.8, 4.8, 4.5, 4.5, 4.5, 4.6, 4.9, 4.9, 4.9, 4.9, 4.9, 4.9, 4.9, 4.9, 4.8, 4.2, 4.3, 4.6, 4.8, 4.8, 4.8, 4.8, 4.7, 4.8, 4.6, 4.6, 4.9, 4.9, 4.6, 4.7, 4.9, 4.5, 4.7, 4.7, 4.7, 4.8, 4.6, 4.6, 4.8, 4.8, 3.3, 4.3, 4.8, 4.8, 4.8, 4.0, 4.7, 4.7, 4.7, 4.7, 4.8, 4.1, 4.1, 4.7, 4.7, 4.7, 4.7, 4.4, 4.4, 4.8, 4.8, 3.9, 3.9, 4.4, 4.4, 4.4, 4.5, 4.7, 4.3, 4.6, 4.8, 4.8, 4.8, 4.8, 4.8, 4.8, 4.7, 4.7, 4.7, 4.8, 4.8, 4.8, 4.8, 4.9, 4.4, 4.8, 4.2, 4.8, 4.7, 4.5, 4.8, 4.8, 4.8, 4.3, 4.8, 4.8, 4.3, 4.3, 4.6, 4.8, 4.6, 4.6, 4.6, 4.5, 4.8, 4.7, 4.7, 4.4, 4.7, 4.8, 4.9, 4.9, 4.9, 4.9, 4.9, 4.9, 4.9, 4.9, 4.9, 4.9, 4.9, 4.8, 4.8, 4.5, 4.8, 4.8, 4.8, 4.8, 4.8, 4.8, 4.7, 4.5, 4.3, 4.8, 4.5, 4.7, 4.8, 4.8, 4.8, 4.5, 4.8, 4.8, 4.8, 4.8, 4.8, 4.9], \"yaxis\": \"y\"}],\n",
              "                        {\"barmode\": \"group\", \"legend\": {\"tracegroupgap\": 0}, \"template\": {\"data\": {\"bar\": [{\"error_x\": {\"color\": \"#2a3f5f\"}, \"error_y\": {\"color\": \"#2a3f5f\"}, \"marker\": {\"line\": {\"color\": \"#E5ECF6\", \"width\": 0.5}}, \"type\": \"bar\"}], \"barpolar\": [{\"marker\": {\"line\": {\"color\": \"#E5ECF6\", \"width\": 0.5}}, \"type\": \"barpolar\"}], \"carpet\": [{\"aaxis\": {\"endlinecolor\": \"#2a3f5f\", \"gridcolor\": \"white\", \"linecolor\": \"white\", \"minorgridcolor\": \"white\", \"startlinecolor\": \"#2a3f5f\"}, \"baxis\": {\"endlinecolor\": \"#2a3f5f\", \"gridcolor\": \"white\", \"linecolor\": \"white\", \"minorgridcolor\": \"white\", \"startlinecolor\": \"#2a3f5f\"}, \"type\": \"carpet\"}], \"choropleth\": [{\"colorbar\": {\"outlinewidth\": 0, \"ticks\": \"\"}, \"type\": \"choropleth\"}], \"contour\": [{\"colorbar\": {\"outlinewidth\": 0, \"ticks\": \"\"}, \"colorscale\": [[0.0, \"#0d0887\"], [0.1111111111111111, \"#46039f\"], [0.2222222222222222, \"#7201a8\"], [0.3333333333333333, \"#9c179e\"], [0.4444444444444444, \"#bd3786\"], [0.5555555555555556, \"#d8576b\"], [0.6666666666666666, \"#ed7953\"], [0.7777777777777778, \"#fb9f3a\"], [0.8888888888888888, \"#fdca26\"], [1.0, \"#f0f921\"]], \"type\": \"contour\"}], \"contourcarpet\": [{\"colorbar\": {\"outlinewidth\": 0, \"ticks\": \"\"}, \"type\": \"contourcarpet\"}], \"heatmap\": [{\"colorbar\": {\"outlinewidth\": 0, \"ticks\": \"\"}, \"colorscale\": [[0.0, \"#0d0887\"], [0.1111111111111111, \"#46039f\"], [0.2222222222222222, \"#7201a8\"], [0.3333333333333333, \"#9c179e\"], [0.4444444444444444, \"#bd3786\"], [0.5555555555555556, \"#d8576b\"], [0.6666666666666666, \"#ed7953\"], [0.7777777777777778, \"#fb9f3a\"], [0.8888888888888888, \"#fdca26\"], [1.0, \"#f0f921\"]], \"type\": \"heatmap\"}], \"heatmapgl\": [{\"colorbar\": {\"outlinewidth\": 0, \"ticks\": \"\"}, \"colorscale\": [[0.0, \"#0d0887\"], [0.1111111111111111, \"#46039f\"], [0.2222222222222222, \"#7201a8\"], [0.3333333333333333, \"#9c179e\"], [0.4444444444444444, \"#bd3786\"], [0.5555555555555556, \"#d8576b\"], [0.6666666666666666, \"#ed7953\"], [0.7777777777777778, \"#fb9f3a\"], [0.8888888888888888, \"#fdca26\"], [1.0, \"#f0f921\"]], \"type\": \"heatmapgl\"}], \"histogram\": [{\"marker\": {\"colorbar\": {\"outlinewidth\": 0, \"ticks\": \"\"}}, \"type\": \"histogram\"}], \"histogram2d\": [{\"colorbar\": {\"outlinewidth\": 0, \"ticks\": \"\"}, \"colorscale\": [[0.0, \"#0d0887\"], [0.1111111111111111, \"#46039f\"], [0.2222222222222222, \"#7201a8\"], [0.3333333333333333, \"#9c179e\"], [0.4444444444444444, \"#bd3786\"], [0.5555555555555556, \"#d8576b\"], [0.6666666666666666, \"#ed7953\"], [0.7777777777777778, \"#fb9f3a\"], [0.8888888888888888, \"#fdca26\"], [1.0, \"#f0f921\"]], \"type\": \"histogram2d\"}], \"histogram2dcontour\": [{\"colorbar\": {\"outlinewidth\": 0, \"ticks\": \"\"}, \"colorscale\": [[0.0, \"#0d0887\"], [0.1111111111111111, \"#46039f\"], [0.2222222222222222, \"#7201a8\"], [0.3333333333333333, \"#9c179e\"], [0.4444444444444444, \"#bd3786\"], [0.5555555555555556, \"#d8576b\"], [0.6666666666666666, \"#ed7953\"], [0.7777777777777778, \"#fb9f3a\"], [0.8888888888888888, \"#fdca26\"], [1.0, \"#f0f921\"]], \"type\": \"histogram2dcontour\"}], \"mesh3d\": [{\"colorbar\": {\"outlinewidth\": 0, \"ticks\": \"\"}, \"type\": \"mesh3d\"}], \"parcoords\": [{\"line\": {\"colorbar\": {\"outlinewidth\": 0, \"ticks\": \"\"}}, \"type\": \"parcoords\"}], \"pie\": [{\"automargin\": true, \"type\": \"pie\"}], \"scatter\": [{\"marker\": {\"colorbar\": {\"outlinewidth\": 0, \"ticks\": \"\"}}, \"type\": \"scatter\"}], \"scatter3d\": [{\"line\": {\"colorbar\": {\"outlinewidth\": 0, \"ticks\": \"\"}}, \"marker\": {\"colorbar\": {\"outlinewidth\": 0, \"ticks\": \"\"}}, \"type\": \"scatter3d\"}], \"scattercarpet\": [{\"marker\": {\"colorbar\": {\"outlinewidth\": 0, \"ticks\": \"\"}}, \"type\": \"scattercarpet\"}], \"scattergeo\": [{\"marker\": {\"colorbar\": {\"outlinewidth\": 0, \"ticks\": \"\"}}, \"type\": \"scattergeo\"}], \"scattergl\": [{\"marker\": {\"colorbar\": {\"outlinewidth\": 0, \"ticks\": \"\"}}, \"type\": \"scattergl\"}], \"scattermapbox\": [{\"marker\": {\"colorbar\": {\"outlinewidth\": 0, \"ticks\": \"\"}}, \"type\": \"scattermapbox\"}], \"scatterpolar\": [{\"marker\": {\"colorbar\": {\"outlinewidth\": 0, \"ticks\": \"\"}}, \"type\": \"scatterpolar\"}], \"scatterpolargl\": [{\"marker\": {\"colorbar\": {\"outlinewidth\": 0, \"ticks\": \"\"}}, \"type\": \"scatterpolargl\"}], \"scatterternary\": [{\"marker\": {\"colorbar\": {\"outlinewidth\": 0, \"ticks\": \"\"}}, \"type\": \"scatterternary\"}], \"surface\": [{\"colorbar\": {\"outlinewidth\": 0, \"ticks\": \"\"}, \"colorscale\": [[0.0, \"#0d0887\"], [0.1111111111111111, \"#46039f\"], [0.2222222222222222, \"#7201a8\"], [0.3333333333333333, \"#9c179e\"], [0.4444444444444444, \"#bd3786\"], [0.5555555555555556, \"#d8576b\"], [0.6666666666666666, \"#ed7953\"], [0.7777777777777778, \"#fb9f3a\"], [0.8888888888888888, \"#fdca26\"], [1.0, \"#f0f921\"]], \"type\": \"surface\"}], \"table\": [{\"cells\": {\"fill\": {\"color\": \"#EBF0F8\"}, \"line\": {\"color\": \"white\"}}, \"header\": {\"fill\": {\"color\": \"#C8D4E3\"}, \"line\": {\"color\": \"white\"}}, \"type\": \"table\"}]}, \"layout\": {\"annotationdefaults\": {\"arrowcolor\": \"#2a3f5f\", \"arrowhead\": 0, \"arrowwidth\": 1}, \"coloraxis\": {\"colorbar\": {\"outlinewidth\": 0, \"ticks\": \"\"}}, \"colorscale\": {\"diverging\": [[0, \"#8e0152\"], [0.1, \"#c51b7d\"], [0.2, \"#de77ae\"], [0.3, \"#f1b6da\"], [0.4, \"#fde0ef\"], [0.5, \"#f7f7f7\"], [0.6, \"#e6f5d0\"], [0.7, \"#b8e186\"], [0.8, \"#7fbc41\"], [0.9, \"#4d9221\"], [1, \"#276419\"]], \"sequential\": [[0.0, \"#0d0887\"], [0.1111111111111111, \"#46039f\"], [0.2222222222222222, \"#7201a8\"], [0.3333333333333333, \"#9c179e\"], [0.4444444444444444, \"#bd3786\"], [0.5555555555555556, \"#d8576b\"], [0.6666666666666666, \"#ed7953\"], [0.7777777777777778, \"#fb9f3a\"], [0.8888888888888888, \"#fdca26\"], [1.0, \"#f0f921\"]], \"sequentialminus\": [[0.0, \"#0d0887\"], [0.1111111111111111, \"#46039f\"], [0.2222222222222222, \"#7201a8\"], [0.3333333333333333, \"#9c179e\"], [0.4444444444444444, \"#bd3786\"], [0.5555555555555556, \"#d8576b\"], [0.6666666666666666, \"#ed7953\"], [0.7777777777777778, \"#fb9f3a\"], [0.8888888888888888, \"#fdca26\"], [1.0, \"#f0f921\"]]}, \"colorway\": [\"#636efa\", \"#EF553B\", \"#00cc96\", \"#ab63fa\", \"#FFA15A\", \"#19d3f3\", \"#FF6692\", \"#B6E880\", \"#FF97FF\", \"#FECB52\"], \"font\": {\"color\": \"#2a3f5f\"}, \"geo\": {\"bgcolor\": \"white\", \"lakecolor\": \"white\", \"landcolor\": \"#E5ECF6\", \"showlakes\": true, \"showland\": true, \"subunitcolor\": \"white\"}, \"hoverlabel\": {\"align\": \"left\"}, \"hovermode\": \"closest\", \"mapbox\": {\"style\": \"light\"}, \"paper_bgcolor\": \"white\", \"plot_bgcolor\": \"#E5ECF6\", \"polar\": {\"angularaxis\": {\"gridcolor\": \"white\", \"linecolor\": \"white\", \"ticks\": \"\"}, \"bgcolor\": \"#E5ECF6\", \"radialaxis\": {\"gridcolor\": \"white\", \"linecolor\": \"white\", \"ticks\": \"\"}}, \"scene\": {\"xaxis\": {\"backgroundcolor\": \"#E5ECF6\", \"gridcolor\": \"white\", \"gridwidth\": 2, \"linecolor\": \"white\", \"showbackground\": true, \"ticks\": \"\", \"zerolinecolor\": \"white\"}, \"yaxis\": {\"backgroundcolor\": \"#E5ECF6\", \"gridcolor\": \"white\", \"gridwidth\": 2, \"linecolor\": \"white\", \"showbackground\": true, \"ticks\": \"\", \"zerolinecolor\": \"white\"}, \"zaxis\": {\"backgroundcolor\": \"#E5ECF6\", \"gridcolor\": \"white\", \"gridwidth\": 2, \"linecolor\": \"white\", \"showbackground\": true, \"ticks\": \"\", \"zerolinecolor\": \"white\"}}, \"shapedefaults\": {\"line\": {\"color\": \"#2a3f5f\"}}, \"ternary\": {\"aaxis\": {\"gridcolor\": \"white\", \"linecolor\": \"white\", \"ticks\": \"\"}, \"baxis\": {\"gridcolor\": \"white\", \"linecolor\": \"white\", \"ticks\": \"\"}, \"bgcolor\": \"#E5ECF6\", \"caxis\": {\"gridcolor\": \"white\", \"linecolor\": \"white\", \"ticks\": \"\"}}, \"title\": {\"x\": 0.05}, \"xaxis\": {\"automargin\": true, \"gridcolor\": \"white\", \"linecolor\": \"white\", \"ticks\": \"\", \"title\": {\"standoff\": 15}, \"zerolinecolor\": \"white\", \"zerolinewidth\": 2}, \"yaxis\": {\"automargin\": true, \"gridcolor\": \"white\", \"linecolor\": \"white\", \"ticks\": \"\", \"title\": {\"standoff\": 15}, \"zerolinecolor\": \"white\", \"zerolinewidth\": 2}}}, \"title\": {\"text\": \"Classifica\\u00e7\\u00e3o do usu\\u00e1rio por ano e por g\\u00eanero\"}, \"xaxis\": {\"anchor\": \"y\", \"domain\": [0.0, 1.0], \"title\": {\"text\": \"Year\"}}, \"yaxis\": {\"anchor\": \"x\", \"domain\": [0.0, 1.0], \"title\": {\"text\": \"User Rating\"}}},\n",
              "                        {\"responsive\": true}\n",
              "                    ).then(function(){\n",
              "                            \n",
              "var gd = document.getElementById('070a3756-bda0-46f1-ab74-f48c33cbaf93');\n",
              "var x = new MutationObserver(function (mutations, observer) {{\n",
              "        var display = window.getComputedStyle(gd).display;\n",
              "        if (!display || display === 'none') {{\n",
              "            console.log([gd, 'removed!']);\n",
              "            Plotly.purge(gd);\n",
              "            observer.disconnect();\n",
              "        }}\n",
              "}});\n",
              "\n",
              "// Listen for the removal of the full notebook cells\n",
              "var notebookContainer = gd.closest('#notebook-container');\n",
              "if (notebookContainer) {{\n",
              "    x.observe(notebookContainer, {childList: true});\n",
              "}}\n",
              "\n",
              "// Listen for the clearing of the current output cell\n",
              "var outputEl = gd.closest('.output');\n",
              "if (outputEl) {{\n",
              "    x.observe(outputEl, {childList: true});\n",
              "}}\n",
              "\n",
              "                        })\n",
              "                };\n",
              "                \n",
              "            </script>\n",
              "        </div>\n",
              "</body>\n",
              "</html>"
            ]
          },
          "metadata": {
            "tags": []
          }
        }
      ]
    },
    {
      "cell_type": "markdown",
      "metadata": {
        "id": "Vb3hKkKCCt9p"
      },
      "source": [
        "De acordo com o gráfico de barras , o gênero de ficção cresce cada vez mais a cada ano "
      ]
    },
    {
      "cell_type": "markdown",
      "metadata": {
        "id": "v7qCpz2WA_C_"
      },
      "source": [
        "#### 4-) Quais os top 10 livros com as melhores notas ? "
      ]
    },
    {
      "cell_type": "code",
      "metadata": {
        "colab": {
          "base_uri": "https://localhost:8080/",
          "height": 378
        },
        "id": "J6y9ynt-BHbq",
        "outputId": "02060678-fe3f-46a6-85a8-a20f9b2172c9"
      },
      "source": [
        "# Verificando os livros mais bem avaliados\r\n",
        "df[['User Rating', 'Author', 'Name']].groupby(by=['Author','Name']).mean().sort_values(by=['User Rating'],ascending=False).head(10)  "
      ],
      "execution_count": 32,
      "outputs": [
        {
          "output_type": "execute_result",
          "data": {
            "text/html": [
              "<div>\n",
              "<style scoped>\n",
              "    .dataframe tbody tr th:only-of-type {\n",
              "        vertical-align: middle;\n",
              "    }\n",
              "\n",
              "    .dataframe tbody tr th {\n",
              "        vertical-align: top;\n",
              "    }\n",
              "\n",
              "    .dataframe thead th {\n",
              "        text-align: right;\n",
              "    }\n",
              "</style>\n",
              "<table border=\"1\" class=\"dataframe\">\n",
              "  <thead>\n",
              "    <tr style=\"text-align: right;\">\n",
              "      <th></th>\n",
              "      <th></th>\n",
              "      <th>User Rating</th>\n",
              "    </tr>\n",
              "    <tr>\n",
              "      <th>Author</th>\n",
              "      <th>Name</th>\n",
              "      <th></th>\n",
              "    </tr>\n",
              "  </thead>\n",
              "  <tbody>\n",
              "    <tr>\n",
              "      <th>J. K. Rowling</th>\n",
              "      <th>Harry Potter and the Goblet of Fire: The Illustrated Edition (Harry Potter, Book 4) (4)</th>\n",
              "      <td>4.9</td>\n",
              "    </tr>\n",
              "    <tr>\n",
              "      <th>Dav Pilkey</th>\n",
              "      <th>Dog Man: A Tale of Two Kitties: From the Creator of Captain Underpants (Dog Man #3)</th>\n",
              "      <td>4.9</td>\n",
              "    </tr>\n",
              "    <tr>\n",
              "      <th>J.K. Rowling</th>\n",
              "      <th>Harry Potter and the Sorcerer's Stone: The Illustrated Edition (Harry Potter, Book 1)</th>\n",
              "      <td>4.9</td>\n",
              "    </tr>\n",
              "    <tr>\n",
              "      <th>Brandon Stanton</th>\n",
              "      <th>Humans of New York : Stories</th>\n",
              "      <td>4.9</td>\n",
              "    </tr>\n",
              "    <tr>\n",
              "      <th>J.K. Rowling</th>\n",
              "      <th>Harry Potter and the Prisoner of Azkaban: The Illustrated Edition (Harry Potter, Book 3)</th>\n",
              "      <td>4.9</td>\n",
              "    </tr>\n",
              "    <tr>\n",
              "      <th>Bill Martin Jr.</th>\n",
              "      <th>Brown Bear, Brown Bear, What Do You See?</th>\n",
              "      <td>4.9</td>\n",
              "    </tr>\n",
              "    <tr>\n",
              "      <th>Emily Winfield Martin</th>\n",
              "      <th>The Wonderful Things You Will Be</th>\n",
              "      <td>4.9</td>\n",
              "    </tr>\n",
              "    <tr>\n",
              "      <th>J.K. Rowling</th>\n",
              "      <th>Harry Potter and the Chamber of Secrets: The Illustrated Edition (Harry Potter, Book 2)</th>\n",
              "      <td>4.9</td>\n",
              "    </tr>\n",
              "    <tr>\n",
              "      <th>Rush Limbaugh</th>\n",
              "      <th>Rush Revere and the Brave Pilgrims: Time-Travel Adventures with Exceptional Americans (1)</th>\n",
              "      <td>4.9</td>\n",
              "    </tr>\n",
              "    <tr>\n",
              "      <th>Jeff Kinney</th>\n",
              "      <th>Wrecking Ball (Diary of a Wimpy Kid Book 14)</th>\n",
              "      <td>4.9</td>\n",
              "    </tr>\n",
              "  </tbody>\n",
              "</table>\n",
              "</div>"
            ],
            "text/plain": [
              "                                                                          User Rating\n",
              "Author                Name                                                           \n",
              "J. K. Rowling         Harry Potter and the Goblet of Fire: The Illust...          4.9\n",
              "Dav Pilkey            Dog Man: A Tale of Two Kitties: From the Creato...          4.9\n",
              "J.K. Rowling          Harry Potter and the Sorcerer's Stone: The Illu...          4.9\n",
              "Brandon Stanton       Humans of New York : Stories                                4.9\n",
              "J.K. Rowling          Harry Potter and the Prisoner of Azkaban: The I...          4.9\n",
              "Bill Martin Jr.       Brown Bear, Brown Bear, What Do You See?                    4.9\n",
              "Emily Winfield Martin The Wonderful Things You Will Be                            4.9\n",
              "J.K. Rowling          Harry Potter and the Chamber of Secrets: The Il...          4.9\n",
              "Rush Limbaugh         Rush Revere and the Brave Pilgrims: Time-Travel...          4.9\n",
              "Jeff Kinney           Wrecking Ball (Diary of a Wimpy Kid Book 14)                4.9"
            ]
          },
          "metadata": {
            "tags": []
          },
          "execution_count": 32
        }
      ]
    },
    {
      "cell_type": "markdown",
      "metadata": {
        "id": "e5cgqL1qE910"
      },
      "source": [
        "#### 5-) Quais os top 10 Autores com as melhores notas ?"
      ]
    },
    {
      "cell_type": "code",
      "metadata": {
        "colab": {
          "base_uri": "https://localhost:8080/",
          "height": 378
        },
        "id": "9A6b5pC0FB4k",
        "outputId": "a96d741e-f212-4b2f-e1c3-71a5de8e1ed4"
      },
      "source": [
        "# Verificando os autores mais bem avaliados\r\n",
        "df[['User Rating','Author']].groupby(by=['Author']).mean().sort_values(by=['User Rating'],ascending=False).head(10)"
      ],
      "execution_count": 33,
      "outputs": [
        {
          "output_type": "execute_result",
          "data": {
            "text/html": [
              "<div>\n",
              "<style scoped>\n",
              "    .dataframe tbody tr th:only-of-type {\n",
              "        vertical-align: middle;\n",
              "    }\n",
              "\n",
              "    .dataframe tbody tr th {\n",
              "        vertical-align: top;\n",
              "    }\n",
              "\n",
              "    .dataframe thead th {\n",
              "        text-align: right;\n",
              "    }\n",
              "</style>\n",
              "<table border=\"1\" class=\"dataframe\">\n",
              "  <thead>\n",
              "    <tr style=\"text-align: right;\">\n",
              "      <th></th>\n",
              "      <th>User Rating</th>\n",
              "    </tr>\n",
              "    <tr>\n",
              "      <th>Author</th>\n",
              "      <th></th>\n",
              "    </tr>\n",
              "  </thead>\n",
              "  <tbody>\n",
              "    <tr>\n",
              "      <th>Jill Twiss</th>\n",
              "      <td>4.9</td>\n",
              "    </tr>\n",
              "    <tr>\n",
              "      <th>Nathan W. Pyle</th>\n",
              "      <td>4.9</td>\n",
              "    </tr>\n",
              "    <tr>\n",
              "      <th>Chip Gaines</th>\n",
              "      <td>4.9</td>\n",
              "    </tr>\n",
              "    <tr>\n",
              "      <th>Rush Limbaugh</th>\n",
              "      <td>4.9</td>\n",
              "    </tr>\n",
              "    <tr>\n",
              "      <th>Bill Martin Jr.</th>\n",
              "      <td>4.9</td>\n",
              "    </tr>\n",
              "    <tr>\n",
              "      <th>Emily Winfield Martin</th>\n",
              "      <td>4.9</td>\n",
              "    </tr>\n",
              "    <tr>\n",
              "      <th>Pete Souza</th>\n",
              "      <td>4.9</td>\n",
              "    </tr>\n",
              "    <tr>\n",
              "      <th>Patrick Thorpe</th>\n",
              "      <td>4.9</td>\n",
              "    </tr>\n",
              "    <tr>\n",
              "      <th>Lin-Manuel Miranda</th>\n",
              "      <td>4.9</td>\n",
              "    </tr>\n",
              "    <tr>\n",
              "      <th>Sherri Duskey Rinker</th>\n",
              "      <td>4.9</td>\n",
              "    </tr>\n",
              "  </tbody>\n",
              "</table>\n",
              "</div>"
            ],
            "text/plain": [
              "                       User Rating\n",
              "Author                            \n",
              "Jill Twiss                     4.9\n",
              "Nathan W. Pyle                 4.9\n",
              "Chip Gaines                    4.9\n",
              "Rush Limbaugh                  4.9\n",
              "Bill Martin Jr.                4.9\n",
              "Emily Winfield Martin          4.9\n",
              "Pete Souza                     4.9\n",
              "Patrick Thorpe                 4.9\n",
              "Lin-Manuel Miranda             4.9\n",
              "Sherri Duskey Rinker           4.9"
            ]
          },
          "metadata": {
            "tags": []
          },
          "execution_count": 33
        }
      ]
    },
    {
      "cell_type": "markdown",
      "metadata": {
        "id": "of0z-rhpIEKF"
      },
      "source": [
        "Podemos notar que os livros do J.K. Rowling são os mais bem avaliados , porém o mesmo não está entre os 10 melhores autores avaliados"
      ]
    },
    {
      "cell_type": "markdown",
      "metadata": {
        "id": "2Px9h_iVOrbo"
      },
      "source": [
        "#### 6-) Qual a correlação entre as variáveis ?"
      ]
    },
    {
      "cell_type": "code",
      "metadata": {
        "colab": {
          "base_uri": "https://localhost:8080/",
          "height": 168
        },
        "id": "kRI4TwtvOwtC",
        "outputId": "96e620f8-1b6b-4734-c1a5-7d07dedb13f1"
      },
      "source": [
        "# Criando uma matriz de correlação\r\n",
        "corr = df[['Price','Year','Reviews','User Rating']].corr()\r\n",
        "\r\n",
        "display(corr)"
      ],
      "execution_count": 34,
      "outputs": [
        {
          "output_type": "display_data",
          "data": {
            "text/html": [
              "<div>\n",
              "<style scoped>\n",
              "    .dataframe tbody tr th:only-of-type {\n",
              "        vertical-align: middle;\n",
              "    }\n",
              "\n",
              "    .dataframe tbody tr th {\n",
              "        vertical-align: top;\n",
              "    }\n",
              "\n",
              "    .dataframe thead th {\n",
              "        text-align: right;\n",
              "    }\n",
              "</style>\n",
              "<table border=\"1\" class=\"dataframe\">\n",
              "  <thead>\n",
              "    <tr style=\"text-align: right;\">\n",
              "      <th></th>\n",
              "      <th>Price</th>\n",
              "      <th>Year</th>\n",
              "      <th>Reviews</th>\n",
              "      <th>User Rating</th>\n",
              "    </tr>\n",
              "  </thead>\n",
              "  <tbody>\n",
              "    <tr>\n",
              "      <th>Price</th>\n",
              "      <td>1.000000</td>\n",
              "      <td>-0.153979</td>\n",
              "      <td>-0.109182</td>\n",
              "      <td>-0.133086</td>\n",
              "    </tr>\n",
              "    <tr>\n",
              "      <th>Year</th>\n",
              "      <td>-0.153979</td>\n",
              "      <td>1.000000</td>\n",
              "      <td>0.263560</td>\n",
              "      <td>0.242383</td>\n",
              "    </tr>\n",
              "    <tr>\n",
              "      <th>Reviews</th>\n",
              "      <td>-0.109182</td>\n",
              "      <td>0.263560</td>\n",
              "      <td>1.000000</td>\n",
              "      <td>-0.001729</td>\n",
              "    </tr>\n",
              "    <tr>\n",
              "      <th>User Rating</th>\n",
              "      <td>-0.133086</td>\n",
              "      <td>0.242383</td>\n",
              "      <td>-0.001729</td>\n",
              "      <td>1.000000</td>\n",
              "    </tr>\n",
              "  </tbody>\n",
              "</table>\n",
              "</div>"
            ],
            "text/plain": [
              "                Price      Year   Reviews  User Rating\n",
              "Price        1.000000 -0.153979 -0.109182    -0.133086\n",
              "Year        -0.153979  1.000000  0.263560     0.242383\n",
              "Reviews     -0.109182  0.263560  1.000000    -0.001729\n",
              "User Rating -0.133086  0.242383 -0.001729     1.000000"
            ]
          },
          "metadata": {
            "tags": []
          }
        }
      ]
    },
    {
      "cell_type": "code",
      "metadata": {
        "colab": {
          "base_uri": "https://localhost:8080/",
          "height": 279
        },
        "id": "b3bQxwLzPJ4Q",
        "outputId": "8e72894d-52b7-40a6-ee4d-e78e92b184df"
      },
      "source": [
        "sns.heatmap(corr ,cmap='RdBu', fmt='.2f', square='white', linecolor='Blue', annot=True);"
      ],
      "execution_count": 35,
      "outputs": [
        {
          "output_type": "display_data",
          "data": {
            "image/png": "[encoded data removed]",
            "text/plain": [
              "<Figure size 432x288 with 2 Axes>"
            ]
          },
          "metadata": {
            "tags": [],
            "needs_background": "light"
          }
        }
      ]
    },
    {
      "cell_type": "markdown",
      "metadata": {
        "id": "dK2SzBHrUVPo"
      },
      "source": [
        "#### 7-) O ano do livro influência no preço ?"
      ]
    },
    {
      "cell_type": "code",
      "metadata": {
        "id": "90wcxRdCVAZ0",
        "colab": {
          "base_uri": "https://localhost:8080/"
        },
        "outputId": "e694b815-77c7-4b29-f0a3-ecbc127bd2e6"
      },
      "source": [
        "# Agrupando os livros por ano e verificando a média do valor de cada ano\r\n",
        "df.groupby('Year')['Price'].mean()"
      ],
      "execution_count": 36,
      "outputs": [
        {
          "output_type": "execute_result",
          "data": {
            "text/plain": [
              "Year\n",
              "2009    15.40\n",
              "2010    13.48\n",
              "2011    15.10\n",
              "2012    15.30\n",
              "2013    14.60\n",
              "2014    14.64\n",
              "2015    10.42\n",
              "2016    13.18\n",
              "2017    11.38\n",
              "2018    10.52\n",
              "2019    10.08\n",
              "Name: Price, dtype: float64"
            ]
          },
          "metadata": {
            "tags": []
          },
          "execution_count": 36
        }
      ]
    },
    {
      "cell_type": "markdown",
      "metadata": {
        "id": "K6Uq0YKxJJ-V"
      },
      "source": [
        "As médias dos valores de cada ano são bem proximas , logo podemos concluir que o ano do livro não influência muito no preço"
      ]
    },
    {
      "cell_type": "markdown",
      "metadata": {
        "id": "NZBT3xhsV3KO"
      },
      "source": [
        "#### 8-) O genêro do Livro influência no preço ?"
      ]
    },
    {
      "cell_type": "code",
      "metadata": {
        "id": "Mjup5iFFV6cC",
        "colab": {
          "base_uri": "https://localhost:8080/"
        },
        "outputId": "53507622-12cb-430b-e102-e69260d117aa"
      },
      "source": [
        "# Agrupando os livros por genêro e verificando a média do valor de cada genêro\r\n",
        "df.groupby('Genre')['Price'].mean().round(2)"
      ],
      "execution_count": 38,
      "outputs": [
        {
          "output_type": "execute_result",
          "data": {
            "text/plain": [
              "Genre\n",
              "Fiction        10.85\n",
              "Non Fiction    14.84\n",
              "Name: Price, dtype: float64"
            ]
          },
          "metadata": {
            "tags": []
          },
          "execution_count": 38
        }
      ]
    },
    {
      "cell_type": "markdown",
      "metadata": {
        "id": "PDqHEyViKW5W"
      },
      "source": [
        "Podemos concluir que os livro sem ficção são mais caros , isso mostra o porquê esse genêro tem notas melhores"
      ]
    },
    {
      "cell_type": "markdown",
      "metadata": {
        "id": "tdF8cfqYK5zh"
      },
      "source": [
        "#### 9-) A nota do livro influência no preço ?"
      ]
    },
    {
      "cell_type": "code",
      "metadata": {
        "colab": {
          "base_uri": "https://localhost:8080/"
        },
        "id": "RsQBmensK-uy",
        "outputId": "9d5335f4-22c1-4d35-81a1-d67a5123a3b0"
      },
      "source": [
        "df.groupby('User Rating')['Price'].mean().round(2)"
      ],
      "execution_count": 37,
      "outputs": [
        {
          "output_type": "execute_result",
          "data": {
            "text/plain": [
              "User Rating\n",
              "3.3    12.00\n",
              "3.6    19.00\n",
              "3.8    14.00\n",
              "3.9    17.67\n",
              "4.0    14.64\n",
              "4.1    11.67\n",
              "4.2    11.62\n",
              "4.3    13.28\n",
              "4.4    14.45\n",
              "4.5    20.93\n",
              "4.6    12.10\n",
              "4.7    12.99\n",
              "4.8    10.87\n",
              "4.9    10.29\n",
              "Name: Price, dtype: float64"
            ]
          },
          "metadata": {
            "tags": []
          },
          "execution_count": 37
        }
      ]
    },
    {
      "cell_type": "markdown",
      "metadata": {
        "id": "n6lyXTUSLtM4"
      },
      "source": [
        "Com essa pequena analise , verificamos que os livros com maiores notas não são mais caros que os livros com menos nota , porém todos os livros ficam em uma média de preço bem parecida. \r\n",
        "\r\n"
      ]
    },
    {
      "cell_type": "markdown",
      "metadata": {
        "id": "Hw0gpCn67APF"
      },
      "source": [
        "## Conclusões \r\n",
        "\r\n",
        "Por fim , podemos concluir que os livros do genêro ficção são os mais bem avaliados pelo público e vai crescendo a cada ano. \r\n",
        "\r\n",
        "Os livros do J. K. Rowling são os melhores avaliados por causa da criação da saga **Harry Potter**. Porém o mesmo não está entre os 10 autores mais avaliados. \r\n",
        "\r\n",
        "A média do preço dos livros de ficção são mais baratos do que os livros de gênero sem ficção entretanto o preço não tem muita altação dependendo da nota. \r\n"
      ]
    }
  ]
}