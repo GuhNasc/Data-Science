{
  "cells": [
    {
      "cell_type": "markdown",
      "metadata": {
        "id": "view-in-github",
        "colab_type": "text"
      },
      "source": [
        "<a href=\"https://colab.research.google.com/github/GuhNasc/Data-Science/blob/main/PROJETOS_Limpeza_Dataset_com_Numpy.ipynb\" target=\"_parent\"><img src=\"https://colab.research.google.com/assets/colab-badge.svg\" alt=\"Open In Colab\"/></a>"
      ]
    },
    {
      "cell_type": "markdown",
      "metadata": {
        "id": "BfA3JKpC_SqC"
      },
      "source": [
        "# **Introdução do projeto**"
      ]
    },
    {
      "cell_type": "markdown",
      "metadata": {
        "id": "y0pghN9B_VNK"
      },
      "source": [
        "Nesse projeto iremos fazer uma limpeza num dataset utilizando `NUMPY` fazendo alterações em alguns dados sem perder a informação que é o mais importante. O conjunto de dados que utilizaremos representa milhares de empréstimos feitos  por meio da plataforma Lending Club, que é uma plataforma que permite que  indivíduos emprestem para outros indivíduos.\n",
        "\n",
        "Esse conjunto de dados contém dados com muitas strings, caracteres especiais, problemas de encoding, datas  mal  formatadas,  números  e  textos  na  mesma  coluna, url’s contendo Ids importantes para análise, valores ausentes, coluna que contém informação que deveria estar distribuída em três ou mais colunas.\n",
        "\n",
        "Então faremos todos esse tratamento e limpeza dos dados. \n",
        "\n",
        "\n",
        "\n"
      ]
    },
    {
      "cell_type": "markdown",
      "metadata": {
        "id": "ikEhV24_XOYW"
      },
      "source": [
        "## **Carregando os dados**"
      ]
    },
    {
      "cell_type": "markdown",
      "metadata": {
        "id": "RVwEv7g7Xcy7"
      },
      "source": [
        "**Importando a biblioteca e importando os dados**"
      ]
    },
    {
      "cell_type": "code",
      "execution_count": 1,
      "metadata": {
        "id": "EG-SwTV2LrYi"
      },
      "outputs": [],
      "source": [
        "# Importação de bibliotecas\n",
        "import numpy as np\n",
        "import pandas as pd\n",
        "np.set_printoptions(suppress = True, linewidth = 200, precision = 2)"
      ]
    },
    {
      "cell_type": "code",
      "execution_count": 2,
      "metadata": {
        "id": "vOKNsEZ68xr2"
      },
      "outputs": [],
      "source": [
        "# Carregando os dados e definindo alguns parametros\n",
        "dados = np.genfromtxt('/content/dataset1.csv', #------Carrega os dados da fonte\n",
        "                      delimiter = ';',#------ Separa das colunas por ;\n",
        "                      skip_header = 1,#------ Pula a linha do cabeçalho para carregar somente os dados\n",
        "                      autostrip = True,#----- Remove espaços dentro de cada coluna \n",
        "                      encoding = 'cp1252')"
      ]
    },
    {
      "cell_type": "code",
      "execution_count": 3,
      "metadata": {
        "id": "tI2o0-Di9LZj",
        "colab": {
          "base_uri": "https://localhost:8080/"
        },
        "outputId": "235b67f4-9b59-4aad-f721-a65d8716d011"
      },
      "outputs": [
        {
          "output_type": "execute_result",
          "data": {
            "text/plain": [
              "numpy.ndarray"
            ]
          },
          "metadata": {},
          "execution_count": 3
        }
      ],
      "source": [
        "# Verificando o tipo \n",
        "type(dados)"
      ]
    },
    {
      "cell_type": "code",
      "execution_count": 4,
      "metadata": {
        "id": "_74zW5tW9PUg",
        "colab": {
          "base_uri": "https://localhost:8080/"
        },
        "outputId": "bfd7da0c-3dc7-4956-eefc-71ce8cf2b0f9"
      },
      "outputs": [
        {
          "output_type": "execute_result",
          "data": {
            "text/plain": [
              "(10000, 14)"
            ]
          },
          "metadata": {},
          "execution_count": 4
        }
      ],
      "source": [
        "# Verficando o tamanho do dataset em LINHAS E COLUNAS , então temos 10000 linhas e 14 colunas\n",
        "dados.shape"
      ]
    },
    {
      "cell_type": "code",
      "execution_count": 5,
      "metadata": {
        "id": "unzkVF4x9YT-",
        "colab": {
          "base_uri": "https://localhost:8080/"
        },
        "outputId": "f7df0e96-3e63-4271-c907-f39c4f73eb97"
      },
      "outputs": [
        {
          "output_type": "execute_result",
          "data": {
            "text/plain": [
              "array([[48010226.  ,         nan,    35000.  , ...,         nan,         nan,     9452.96],\n",
              "       [57693261.  ,         nan,    30000.  , ...,         nan,         nan,     4679.7 ],\n",
              "       [59432726.  ,         nan,    15000.  , ...,         nan,         nan,     1969.83],\n",
              "       ...,\n",
              "       [50415990.  ,         nan,    10000.  , ...,         nan,         nan,     2185.64],\n",
              "       [46154151.  ,         nan,         nan, ...,         nan,         nan,     3199.4 ],\n",
              "       [66055249.  ,         nan,    10000.  , ...,         nan,         nan,      301.9 ]])"
            ]
          },
          "metadata": {},
          "execution_count": 5
        }
      ],
      "source": [
        "# Carregando os dados em visualização+\n",
        "dados.view()"
      ]
    },
    {
      "cell_type": "markdown",
      "metadata": {
        "id": "oVLr9w7_-VKQ"
      },
      "source": [
        "**Podemos ver que há várias colunas com `nan` isso se deve porque tem caracteres especiais e como o numpy carrega dados em formato string, vamos ver quantos casos há nesse dadaset**\n"
      ]
    },
    {
      "cell_type": "markdown",
      "metadata": {
        "id": "aNW8FL_zF_nQ"
      },
      "source": [
        "## **Verificando Valores Ausentes**"
      ]
    },
    {
      "cell_type": "code",
      "execution_count": 6,
      "metadata": {
        "id": "L9GdVOSXGDw5",
        "colab": {
          "base_uri": "https://localhost:8080/"
        },
        "outputId": "f9857390-df03-40dc-8198-f8ce493d3330"
      },
      "outputs": [
        {
          "output_type": "execute_result",
          "data": {
            "text/plain": [
              "88005"
            ]
          },
          "metadata": {},
          "execution_count": 6
        }
      ],
      "source": [
        "# Somando todos os dados com valores NaN\n",
        "np.isnan(dados).sum()"
      ]
    },
    {
      "cell_type": "markdown",
      "metadata": {
        "id": "7Tr-heKlIhVT"
      },
      "source": [
        "Agora vamos utilizar por enquanto um valor coringa para substituir o valor NaN"
      ]
    },
    {
      "cell_type": "code",
      "execution_count": 7,
      "metadata": {
        "id": "tTcPzJ-zYXnQ",
        "colab": {
          "base_uri": "https://localhost:8080/"
        },
        "outputId": "b7b3ae3c-f1a2-4541-dc26-8a419a0a5067"
      },
      "outputs": [
        {
          "output_type": "stream",
          "name": "stdout",
          "text": [
            "68616520.0\n"
          ]
        }
      ],
      "source": [
        "#Criando variavel coringa\n",
        "valor_coringa = np.nanmax(dados) + 1\n",
        "print(valor_coringa)"
      ]
    },
    {
      "cell_type": "markdown",
      "metadata": {
        "id": "ct5dn4AjZkaN"
      },
      "source": [
        "Geramos esse valor coringa mas ainda irei fazer mais uma alteração no nossos dados separando colunas Strings de colunas Numericas"
      ]
    },
    {
      "cell_type": "code",
      "execution_count": 8,
      "metadata": {
        "id": "EEl9Exk3Z2vy",
        "colab": {
          "base_uri": "https://localhost:8080/"
        },
        "outputId": "de44c4b9-8b60-4278-d62f-16a0a4094ba7"
      },
      "outputs": [
        {
          "output_type": "stream",
          "name": "stdout",
          "text": [
            "[54015809.19         nan    15273.46         nan    15311.04         nan       16.62      440.92         nan         nan         nan         nan         nan     3143.85]\n"
          ]
        },
        {
          "output_type": "stream",
          "name": "stderr",
          "text": [
            "<ipython-input-8-9a951fa80732>:2: RuntimeWarning: Mean of empty slice\n",
            "  media_ignorando_nan =  np.nanmean(dados, axis = 0)#-------Com isso vamos trazer as médicas das colunas numéricas , logo tudo aquilo que é NAN é coluna string\n"
          ]
        }
      ],
      "source": [
        "# Calculando média das colunas numericas ignorando o valor NaN\n",
        "media_ignorando_nan =  np.nanmean(dados, axis = 0)#-------Com isso vamos trazer as médicas das colunas numéricas , logo tudo aquilo que é NAN é coluna string\n",
        "print(media_ignorando_nan)"
      ]
    },
    {
      "cell_type": "markdown",
      "metadata": {
        "id": "g_54rxaoaUYG"
      },
      "source": [
        "## **Separando colunas Strings e Numericas**"
      ]
    },
    {
      "cell_type": "code",
      "execution_count": 104,
      "metadata": {
        "id": "nBC61IP2aYdi",
        "colab": {
          "base_uri": "https://localhost:8080/"
        },
        "outputId": "4a70618f-c0e4-4aa0-9fdc-5db6ef78b292"
      },
      "outputs": [
        {
          "output_type": "stream",
          "name": "stdout",
          "text": [
            "[ 1  3  5  8  9 10 11 12]\n"
          ]
        }
      ],
      "source": [
        "colunas_strings =  np.argwhere(np.isnan(media_ignorando_nan)).squeeze()# Trazendo colunas strings \n",
        "print(colunas_string)"
      ]
    },
    {
      "cell_type": "code",
      "execution_count": 105,
      "metadata": {
        "id": "05qR804Wanoz",
        "colab": {
          "base_uri": "https://localhost:8080/"
        },
        "outputId": "d7341884-74f2-4572-abf4-c75eda68e7fe"
      },
      "outputs": [
        {
          "output_type": "stream",
          "name": "stdout",
          "text": [
            "[ 0  2  4  6  7 13]\n"
          ]
        }
      ],
      "source": [
        "colunas_numericas =  np.argwhere(np.isnan(media_ignorando_nan) == False).squeeze()# Trazendo colunas numericas\n",
        "print(colunas_numericas)"
      ]
    },
    {
      "cell_type": "markdown",
      "metadata": {
        "id": "dia_iuqCd4nK"
      },
      "source": [
        "## **Criando um array com as colunas Strings e Numericas**"
      ]
    },
    {
      "cell_type": "code",
      "execution_count": 11,
      "metadata": {
        "id": "YpyYZ3jHd-Wk"
      },
      "outputs": [],
      "source": [
        "# Carrega colunas do tipo string\n",
        "arr_strings = np.genfromtxt('/content/dataset1.csv',\n",
        "                            delimiter = ';',\n",
        "                            skip_header = 1,\n",
        "                            autostrip = True,\n",
        "                            usecols = colunas_string,\n",
        "                            dtype = str,\n",
        "                            encoding = 'cp1252')"
      ]
    },
    {
      "cell_type": "code",
      "execution_count": 12,
      "metadata": {
        "id": "08gluu6RlLMi"
      },
      "outputs": [],
      "source": [
        "arr_numerica =  np.genfromtxt('/content/dataset1.csv',\n",
        "                              delimiter = ';',\n",
        "                              autostrip = True,\n",
        "                              skip_header = 1,\n",
        "                              usecols = colunas_numericas,\n",
        "                              filling_values = valor_coringa,\n",
        "                              encoding = 'cp1252')"
      ]
    },
    {
      "cell_type": "code",
      "execution_count": 13,
      "metadata": {
        "id": "c6lZFEWmlw6T",
        "colab": {
          "base_uri": "https://localhost:8080/"
        },
        "outputId": "e0d1ecc9-c0f4-45b1-b606-3b57e8e07d0d"
      },
      "outputs": [
        {
          "output_type": "execute_result",
          "data": {
            "text/plain": [
              "array([[48010226.  ,    35000.  ,    35000.  ,       13.33,     1184.86,     9452.96],\n",
              "       [57693261.  ,    30000.  ,    30000.  , 68616520.  ,      938.57,     4679.7 ],\n",
              "       [59432726.  ,    15000.  ,    15000.  , 68616520.  ,      494.86,     1969.83],\n",
              "       ...,\n",
              "       [50415990.  ,    10000.  ,    10000.  , 68616520.  , 68616520.  ,     2185.64],\n",
              "       [46154151.  , 68616520.  ,    10000.  ,       16.55,      354.3 ,     3199.4 ],\n",
              "       [66055249.  ,    10000.  ,    10000.  , 68616520.  ,      309.97,      301.9 ]])"
            ]
          },
          "metadata": {},
          "execution_count": 13
        }
      ],
      "source": [
        "arr_numerica"
      ]
    },
    {
      "cell_type": "code",
      "execution_count": 14,
      "metadata": {
        "id": "UkJbbAsJl2Lh",
        "colab": {
          "base_uri": "https://localhost:8080/"
        },
        "outputId": "4a8d1f34-4bd8-4c70-f780-6fd85728d990"
      },
      "outputs": [
        {
          "output_type": "execute_result",
          "data": {
            "text/plain": [
              "array([['May-15', 'Current', '36 months', ..., 'Verified', 'https://www.lendingclub.com/browse/loanDetail.action?loan_id=48010226', 'CA'],\n",
              "       ['', 'Current', '36 months', ..., 'Source Verified', 'https://www.lendingclub.com/browse/loanDetail.action?loan_id=57693261', 'NY'],\n",
              "       ['Sep-15', 'Current', '36 months', ..., 'Verified', 'https://www.lendingclub.com/browse/loanDetail.action?loan_id=59432726', 'PA'],\n",
              "       ...,\n",
              "       ['Jun-15', 'Current', '36 months', ..., 'Source Verified', 'https://www.lendingclub.com/browse/loanDetail.action?loan_id=50415990', 'CA'],\n",
              "       ['Apr-15', 'Current', '36 months', ..., 'Source Verified', 'https://www.lendingclub.com/browse/loanDetail.action?loan_id=46154151', 'OH'],\n",
              "       ['Dec-15', 'Current', '36 months', ..., '', 'https://www.lendingclub.com/browse/loanDetail.action?loan_id=66055249', 'IL']], dtype='<U69')"
            ]
          },
          "metadata": {},
          "execution_count": 14
        }
      ],
      "source": [
        "arr_strings"
      ]
    },
    {
      "cell_type": "markdown",
      "metadata": {
        "id": "sIwWXAeVhBYT"
      },
      "source": [
        "Criando array somente com os nomes da colunas"
      ]
    },
    {
      "cell_type": "code",
      "execution_count": 15,
      "metadata": {
        "id": "tiAPGAUJhEyX"
      },
      "outputs": [],
      "source": [
        "arr_nomes_colunas = np.genfromtxt('/content/dataset1.csv',\n",
        "                              delimiter = ';',\n",
        "                              autostrip = True,\n",
        "                              skip_footer = dados.shape[0],\n",
        "                              dtype = str,\n",
        "                              encoding = 'cp1252')"
      ]
    },
    {
      "cell_type": "code",
      "execution_count": 16,
      "metadata": {
        "id": "tqrKYw6Ihb2t",
        "colab": {
          "base_uri": "https://localhost:8080/"
        },
        "outputId": "b2700b51-c8fd-46ea-b17c-e30a2a651453"
      },
      "outputs": [
        {
          "output_type": "execute_result",
          "data": {
            "text/plain": [
              "array(['id', 'issue_d', 'loan_amnt', 'loan_status', 'funded_amnt', 'term', 'int_rate', 'installment', 'grade', 'sub_grade', 'verification_status', 'url', 'addr_state', 'total_pymnt'], dtype='<U19')"
            ]
          },
          "metadata": {},
          "execution_count": 16
        }
      ],
      "source": [
        "arr_nomes_colunas"
      ]
    },
    {
      "cell_type": "code",
      "source": [
        "# Separa cabeçalho de colunas numéricas e string\n",
        "header_strings, header_numerica = arr_nomes_colunas[colunas_string], arr_nomes_colunas[colunas_numericas]"
      ],
      "metadata": {
        "id": "NI6QtnFzCW0y"
      },
      "execution_count": 110,
      "outputs": []
    },
    {
      "cell_type": "code",
      "source": [
        "header_strings"
      ],
      "metadata": {
        "colab": {
          "base_uri": "https://localhost:8080/"
        },
        "id": "1Kl7-TdkCssz",
        "outputId": "9b90205c-745b-49b8-8fbb-0943367e1414"
      },
      "execution_count": 111,
      "outputs": [
        {
          "output_type": "execute_result",
          "data": {
            "text/plain": [
              "array(['issue_d', 'term_months', 'term', 'grade', 'sub_grade', 'verification_status', 'url', 'addr_state'], dtype='<U19')"
            ]
          },
          "metadata": {},
          "execution_count": 111
        }
      ]
    },
    {
      "cell_type": "code",
      "source": [
        "header_numerica"
      ],
      "metadata": {
        "colab": {
          "base_uri": "https://localhost:8080/"
        },
        "id": "xVXDWNI1CuLq",
        "outputId": "1f1c4440-9a51-4c6b-f919-904ecb1769b8"
      },
      "execution_count": 112,
      "outputs": [
        {
          "output_type": "execute_result",
          "data": {
            "text/plain": [
              "array(['id', 'loan_amnt', 'funded_amnt', 'int_rate', 'installment', 'total_pymnt'], dtype='<U19')"
            ]
          },
          "metadata": {},
          "execution_count": 112
        }
      ]
    },
    {
      "cell_type": "markdown",
      "metadata": {
        "id": "IO_BCSOVCuAv"
      },
      "source": [
        "Agora vamos tratar as colunas de strings primeiro."
      ]
    },
    {
      "cell_type": "markdown",
      "source": [
        "## **MANIPULANDO VARIÁVEIS STRINGS**"
      ],
      "metadata": {
        "id": "6Uw8yBv123ik"
      }
    },
    {
      "cell_type": "markdown",
      "metadata": {
        "id": "mTkvmk6OCyyp"
      },
      "source": [
        "### **Pré-Processamento da Variavel issue_date com Label enconding**"
      ]
    },
    {
      "cell_type": "code",
      "execution_count": 17,
      "metadata": {
        "id": "jh7uyt7cC7oN",
        "colab": {
          "base_uri": "https://localhost:8080/"
        },
        "outputId": "5234a752-f0bd-4826-9147-350fde86ac1a"
      },
      "outputs": [
        {
          "output_type": "execute_result",
          "data": {
            "text/plain": [
              "array(['', 'Apr-15', 'Aug-15', 'Dec-15', 'Feb-15', 'Jan-15', 'Jul-15', 'Jun-15', 'Mar-15', 'May-15', 'Nov-15', 'Oct-15', 'Sep-15'], dtype='<U69')"
            ]
          },
          "metadata": {},
          "execution_count": 17
        }
      ],
      "source": [
        "#Extrai os valores unicos da variavel\n",
        "np.unique(arr_strings[:,0])"
      ]
    },
    {
      "cell_type": "code",
      "execution_count": 18,
      "metadata": {
        "id": "59r-6-4hIPbn"
      },
      "outputs": [],
      "source": [
        "# Removendo o '-15'\n",
        "arr_strings[:,0] = np.chararray.strip(arr_strings[:,0],'-15')"
      ]
    },
    {
      "cell_type": "code",
      "execution_count": 19,
      "metadata": {
        "colab": {
          "base_uri": "https://localhost:8080/"
        },
        "id": "FufqsQQhIg28",
        "outputId": "e2b5ccdb-947d-4c0e-cdfb-30de907ee323"
      },
      "outputs": [
        {
          "output_type": "execute_result",
          "data": {
            "text/plain": [
              "array(['', 'Apr', 'Aug', 'Dec', 'Feb', 'Jan', 'Jul', 'Jun', 'Mar', 'May', 'Nov', 'Oct', 'Sep'], dtype='<U69')"
            ]
          },
          "metadata": {},
          "execution_count": 19
        }
      ],
      "source": [
        "#Agora vamos extrair novamente os valores unicos\n",
        "np.unique(arr_strings[:,0])"
      ]
    },
    {
      "cell_type": "markdown",
      "metadata": {
        "id": "K9P28XHWIw7_"
      },
      "source": [
        "Percebemos que na primeira posição tem um valor ausente. Primeiramente iremos fazer uma alteração nos dados transformando os nomes dos meses em numeros , então Jan = 1 , Feb = 2 e no valor ausente iremos utilizar o numero 0"
      ]
    },
    {
      "cell_type": "code",
      "execution_count": 20,
      "metadata": {
        "id": "_E0saWusJFcF"
      },
      "outputs": [],
      "source": [
        "# Criando um array de meses incluindo o valor ausente que está na primeira posição\n",
        "meses = np.array(['','Jan','Feb','Mar','Apr','May','Jun','Jul','Aug','Sep','Oct','Nov','Dec'])"
      ]
    },
    {
      "cell_type": "code",
      "execution_count": 21,
      "metadata": {
        "id": "ip4LYrCFJn_b"
      },
      "outputs": [],
      "source": [
        "#Loop para converter os meses em numericos\n",
        "for i in range(13):\n",
        "  arr_strings[:,0] = np.where(arr_strings[:,0] == meses[i],i,arr_strings[:,0])"
      ]
    },
    {
      "cell_type": "code",
      "execution_count": 22,
      "metadata": {
        "colab": {
          "base_uri": "https://localhost:8080/"
        },
        "id": "K-yIhAlHMlfQ",
        "outputId": "ba512a66-98c7-45f6-9285-0c2c0b94d947"
      },
      "outputs": [
        {
          "output_type": "execute_result",
          "data": {
            "text/plain": [
              "array(['0', '1', '10', '11', '12', '2', '3', '4', '5', '6', '7', '8', '9'], dtype='<U69')"
            ]
          },
          "metadata": {},
          "execution_count": 22
        }
      ],
      "source": [
        "np.unique(arr_strings[:,0])"
      ]
    },
    {
      "cell_type": "markdown",
      "metadata": {
        "id": "XTEwyFdmM8IH"
      },
      "source": [
        "Temos a primeira váriavel categórica sendo convertida para numerica. Agora irei fazer o mesmo com a variavel Loan_status"
      ]
    },
    {
      "cell_type": "markdown",
      "metadata": {
        "id": "9WVkdLdzOnRd"
      },
      "source": [
        "### **Pré-Processamento da variavel Loan_Status com binarização**"
      ]
    },
    {
      "cell_type": "code",
      "execution_count": 23,
      "metadata": {
        "colab": {
          "base_uri": "https://localhost:8080/"
        },
        "id": "aiJMFQJhOw1p",
        "outputId": "c5fd1100-1ab5-41ee-ad32-542f1e2df49b"
      },
      "outputs": [
        {
          "output_type": "execute_result",
          "data": {
            "text/plain": [
              "array(['', 'Charged Off', 'Current', 'Default', 'Fully Paid', 'In Grace Period', 'Issued', 'Late (16-30 days)', 'Late (31-120 days)'], dtype='<U69')"
            ]
          },
          "metadata": {},
          "execution_count": 23
        }
      ],
      "source": [
        "#Extraindo os valores unicos dessa variavel\n",
        "np.unique(arr_strings[:,1])"
      ]
    },
    {
      "cell_type": "code",
      "execution_count": 24,
      "metadata": {
        "colab": {
          "base_uri": "https://localhost:8080/"
        },
        "id": "LQGch19HVNI9",
        "outputId": "0ed6aff6-488b-4ebb-d3ee-89ffc05abf70"
      },
      "outputs": [
        {
          "output_type": "execute_result",
          "data": {
            "text/plain": [
              "9"
            ]
          },
          "metadata": {},
          "execution_count": 24
        }
      ],
      "source": [
        "#Numero de elementos que podem ser utilizados\n",
        "np.unique(arr_strings[:,1]).size"
      ]
    },
    {
      "cell_type": "code",
      "execution_count": 25,
      "metadata": {
        "id": "13KE329HVrSM"
      },
      "outputs": [],
      "source": [
        "# Criando um array com somente 3 valores \n",
        "status_ruim = np.array(['','Charged Off','Default','Late (31-120days)'])"
      ]
    },
    {
      "cell_type": "code",
      "execution_count": 26,
      "metadata": {
        "id": "r-l_jVlwWF51"
      },
      "outputs": [],
      "source": [
        "# Checamos os valores da variavel e comparamos com o array que criamos convertendo somente em 0 e 1\n",
        "arr_strings[:,1] = np.where(np.isin(arr_strings[:,1],status_ruim),0,1)"
      ]
    },
    {
      "cell_type": "code",
      "execution_count": 27,
      "metadata": {
        "colab": {
          "base_uri": "https://localhost:8080/"
        },
        "id": "CQxbWx4MW3Zs",
        "outputId": "e3dc81db-0e9c-4036-d23f-883b2634aeb5"
      },
      "outputs": [
        {
          "output_type": "execute_result",
          "data": {
            "text/plain": [
              "array(['0', '1'], dtype='<U69')"
            ]
          },
          "metadata": {},
          "execution_count": 27
        }
      ],
      "source": [
        "# Extraindo os valores binarizados\n",
        "np.unique(arr_strings[:,1])"
      ]
    },
    {
      "cell_type": "markdown",
      "metadata": {
        "id": "qag5_4SdXXwG"
      },
      "source": [
        "### **Pré-Processamento da variavel term utilizando limpeza de string**"
      ]
    },
    {
      "cell_type": "code",
      "execution_count": 28,
      "metadata": {
        "colab": {
          "base_uri": "https://localhost:8080/"
        },
        "id": "0-AcbLltXfLf",
        "outputId": "beacef76-0e64-4039-85e0-02c5647a44de"
      },
      "outputs": [
        {
          "output_type": "execute_result",
          "data": {
            "text/plain": [
              "array(['', '36 months', '60 months'], dtype='<U69')"
            ]
          },
          "metadata": {},
          "execution_count": 28
        }
      ],
      "source": [
        "#Extraindo os valores unicos da variavel\n",
        "np.unique(arr_strings[:,2])"
      ]
    },
    {
      "cell_type": "markdown",
      "metadata": {
        "id": "YlFnt_3aZTIm"
      },
      "source": [
        "Nesse caso, irei remover o `months` no dado e alterar o nome da Variável para `term_months`para nao perder a informação e assim alterar a variável para numerica"
      ]
    },
    {
      "cell_type": "code",
      "execution_count": 29,
      "metadata": {
        "colab": {
          "base_uri": "https://localhost:8080/"
        },
        "id": "sm-7OdTiZirL",
        "outputId": "4dcd3de9-2e6e-43e3-e67e-8af813e90a48"
      },
      "outputs": [
        {
          "output_type": "execute_result",
          "data": {
            "text/plain": [
              "array(['36', '36', '36', ..., '36', '36', '36'], dtype='<U69')"
            ]
          },
          "metadata": {},
          "execution_count": 29
        }
      ],
      "source": [
        "# Removendo o months do dado\n",
        "arr_strings[:,2] = np.chararray.strip(arr_strings[:,2],' months')\n",
        "arr_strings[:,2]"
      ]
    },
    {
      "cell_type": "code",
      "execution_count": 30,
      "metadata": {
        "id": "m61jRW8yaYke"
      },
      "outputs": [],
      "source": [
        "# Mudando o nome da variavel para nao perder a informação\n",
        "arr_nomes_colunas[3] = 'term_months'"
      ]
    },
    {
      "cell_type": "markdown",
      "metadata": {
        "id": "HwsnGbtDap2Y"
      },
      "source": [
        "Como temos valores ausentes irei mudar para 60 meses"
      ]
    },
    {
      "cell_type": "code",
      "execution_count": 31,
      "metadata": {
        "id": "6ltX3Peratrh"
      },
      "outputs": [],
      "source": [
        "#mudando para valores ausentes para 60\n",
        "arr_strings[:,2] = np.where(arr_strings[:,2] == '',60, arr_strings[:,2])"
      ]
    },
    {
      "cell_type": "code",
      "execution_count": 32,
      "metadata": {
        "colab": {
          "base_uri": "https://localhost:8080/"
        },
        "id": "YdnwKoRwbAa9",
        "outputId": "7eac2b98-2bce-4777-a694-7b395eb0c910"
      },
      "outputs": [
        {
          "output_type": "execute_result",
          "data": {
            "text/plain": [
              "array(['36', '60'], dtype='<U69')"
            ]
          },
          "metadata": {},
          "execution_count": 32
        }
      ],
      "source": [
        "# Trazendo valores unicos atualizados\n",
        "np.unique(arr_strings[:,2])"
      ]
    },
    {
      "cell_type": "markdown",
      "metadata": {
        "id": "xgd5rk6utROG"
      },
      "source": [
        "### Pré-Processamento das variáveis Grade e Sub_Grade com dicionário"
      ]
    },
    {
      "cell_type": "code",
      "execution_count": 33,
      "metadata": {
        "colab": {
          "base_uri": "https://localhost:8080/"
        },
        "id": "S6b7eIjGuYLo",
        "outputId": "f1c54162-671c-481d-f1a2-ecbb357b7d57"
      },
      "outputs": [
        {
          "output_type": "stream",
          "name": "stdout",
          "text": [
            "sub_grade\n",
            "grade\n"
          ]
        }
      ],
      "source": [
        "# Iremos reformular a variavel subgrade juntando informações da variavel grade\n",
        "print(arr_nomes_colunas[9])\n",
        "print(arr_nomes_colunas[8])"
      ]
    },
    {
      "cell_type": "code",
      "execution_count": 34,
      "metadata": {
        "colab": {
          "base_uri": "https://localhost:8080/"
        },
        "id": "cKNUYgXgubrz",
        "outputId": "a49433f5-e5f6-4a9a-c3d9-21fbef3d28f7"
      },
      "outputs": [
        {
          "output_type": "execute_result",
          "data": {
            "text/plain": [
              "array(['', 'A1', 'A2', 'A3', 'A4', 'A5', 'B1', 'B2', 'B3', 'B4', 'B5', 'C1', 'C2', 'C3', 'C4', 'C5', 'D1', 'D2', 'D3', 'D4', 'D5', 'E1', 'E2', 'E3', 'E4', 'E5', 'F1', 'F2', 'F3', 'F4', 'F5', 'G1',\n",
              "       'G2', 'G3', 'G4', 'G5'], dtype='<U69')"
            ]
          },
          "metadata": {},
          "execution_count": 34
        }
      ],
      "source": [
        "# Extraindo valores da sub_grade\n",
        "np.unique(arr_strings[:,4])"
      ]
    },
    {
      "cell_type": "code",
      "execution_count": 35,
      "metadata": {
        "colab": {
          "base_uri": "https://localhost:8080/"
        },
        "id": "RlfnjMpvxAke",
        "outputId": "7bb56f7d-a788-47d5-deb5-40b42366732d"
      },
      "outputs": [
        {
          "output_type": "execute_result",
          "data": {
            "text/plain": [
              "array(['', 'A', 'B', 'C', 'D', 'E', 'F', 'G'], dtype='<U69')"
            ]
          },
          "metadata": {},
          "execution_count": 35
        }
      ],
      "source": [
        "# Variável grade\n",
        "np.unique(arr_strings[:,3])"
      ]
    },
    {
      "cell_type": "markdown",
      "metadata": {
        "id": "U-abp_9rFTNr"
      },
      "source": [
        "Como a variável subgrade tem mais informação, juntar as informações da variável grade na Subgrade"
      ]
    },
    {
      "cell_type": "code",
      "execution_count": 36,
      "metadata": {
        "colab": {
          "base_uri": "https://localhost:8080/"
        },
        "id": "AirVJGaFHN5a",
        "outputId": "f04b5963-18c1-4211-baed-cb827c8c8595"
      },
      "outputs": [
        {
          "output_type": "execute_result",
          "data": {
            "text/plain": [
              "array(['A', 'B', 'C', 'D', 'E', 'F', 'G'], dtype='<U69')"
            ]
          },
          "metadata": {},
          "execution_count": 36
        }
      ],
      "source": [
        "# Retirando o valor ausente\n",
        "np.unique(arr_strings[:,3])[1:,]"
      ]
    },
    {
      "cell_type": "code",
      "execution_count": 37,
      "metadata": {
        "id": "BcBoV9QCHSGk"
      },
      "outputs": [],
      "source": [
        "# Loop para ajuste da variavel subgrade\n",
        "for i in np.unique(arr_strings[:,3])[1:,]:\n",
        "  arr_strings[:,4] = np.where ((arr_strings[:,4] == '') & (arr_strings[:,3] == i), i + '5', arr_strings[:,4]) "
      ]
    },
    {
      "cell_type": "code",
      "execution_count": 38,
      "metadata": {
        "colab": {
          "base_uri": "https://localhost:8080/"
        },
        "id": "9kN5cDesIVxi",
        "outputId": "71f30376-081b-4eec-d611-5c46de05c356"
      },
      "outputs": [
        {
          "output_type": "execute_result",
          "data": {
            "text/plain": [
              "(array(['', 'A1', 'A2', 'A3', 'A4', 'A5', 'B1', 'B2', 'B3', 'B4', 'B5', 'C1', 'C2', 'C3', 'C4', 'C5', 'D1', 'D2', 'D3', 'D4', 'D5', 'E1', 'E2', 'E3', 'E4', 'E5', 'F1', 'F2', 'F3', 'F4', 'F5', 'G1',\n",
              "        'G2', 'G3', 'G4', 'G5'], dtype='<U69'),\n",
              " array([  9, 285, 278, 239, 323, 592, 509, 517, 530, 553, 633, 629, 567, 586, 564, 577, 391, 267, 250, 255, 288, 235, 162, 171, 139, 160,  94,  52,  34,  43,  24,  19,  10,   3,   7,   5]))"
            ]
          },
          "metadata": {},
          "execution_count": 38
        }
      ],
      "source": [
        "# Retornando categorias e suas respectivas contagens\n",
        "np.unique(arr_strings[:,4], return_counts = True)"
      ]
    },
    {
      "cell_type": "markdown",
      "metadata": {
        "id": "GO405FzMI2hW"
      },
      "source": [
        " Podemos ver que ainda temos um valor ausente , porém agora iremos trata-lo substituindo pelo valor `H1`"
      ]
    },
    {
      "cell_type": "code",
      "execution_count": 39,
      "metadata": {
        "id": "qPSfGHNXI_b5"
      },
      "outputs": [],
      "source": [
        "# Substituindo o valor ausente\n",
        "arr_strings[:,4] = np.where(arr_strings[:,4] == '', 'H1' , arr_strings[:,4])"
      ]
    },
    {
      "cell_type": "code",
      "execution_count": 40,
      "metadata": {
        "colab": {
          "base_uri": "https://localhost:8080/"
        },
        "id": "xLepRpKSJKsm",
        "outputId": "7ce34ad0-7d90-441b-fa82-46ac7531f0d1"
      },
      "outputs": [
        {
          "output_type": "execute_result",
          "data": {
            "text/plain": [
              "array(['A1', 'A2', 'A3', 'A4', 'A5', 'B1', 'B2', 'B3', 'B4', 'B5', 'C1', 'C2', 'C3', 'C4', 'C5', 'D1', 'D2', 'D3', 'D4', 'D5', 'E1', 'E2', 'E3', 'E4', 'E5', 'F1', 'F2', 'F3', 'F4', 'F5', 'G1', 'G2',\n",
              "       'G3', 'G4', 'G5', 'H1'], dtype='<U69')"
            ]
          },
          "metadata": {},
          "execution_count": 40
        }
      ],
      "source": [
        "# Verficando a variavel novamente \n",
        "np.unique(arr_strings[:,4])"
      ]
    },
    {
      "cell_type": "markdown",
      "metadata": {
        "id": "AKLnWsiOJVb8"
      },
      "source": [
        "Pronto agora não temos valor ausente. Agora iremos remover a variável Grade do nosso conjunto de dados. Irei fazer isso pois já juntei as informações na variável subgrade , sendo assim, não faz sentindo ter a variável grade"
      ]
    },
    {
      "cell_type": "code",
      "execution_count": 41,
      "metadata": {
        "colab": {
          "base_uri": "https://localhost:8080/"
        },
        "id": "A4Mg5jgpJXjt",
        "outputId": "cd582c65-2cd2-469a-b775-a8efd7e952d7"
      },
      "outputs": [
        {
          "output_type": "execute_result",
          "data": {
            "text/plain": [
              "array(['1', '36', '5', 'C', 'C3', 'CA', 'Verified', 'https://www.lendingclub.com/browse/loanDetail.action?loan_id=48010226'], dtype='<U69')"
            ]
          },
          "metadata": {},
          "execution_count": 41
        }
      ],
      "source": [
        "# Verificando nosso array de strings. Podemos ver que ainda temos que retira a coluna 3 \n",
        "np.unique(arr_strings[:1])"
      ]
    },
    {
      "cell_type": "code",
      "execution_count": 42,
      "metadata": {
        "id": "0A4CMidVJXBL"
      },
      "outputs": [],
      "source": [
        "# Retirando a coluna 3\n",
        "arr_strings = np.delete(arr_strings,3 ,axis = 1)"
      ]
    },
    {
      "cell_type": "code",
      "execution_count": 43,
      "metadata": {
        "colab": {
          "base_uri": "https://localhost:8080/"
        },
        "id": "J3y9yLGSLMbD",
        "outputId": "9ffc2697-4fec-4ed5-fbe8-a63c001ac5a8"
      },
      "outputs": [
        {
          "output_type": "execute_result",
          "data": {
            "text/plain": [
              "array(['1', '36', '5', 'C3', 'CA', 'Verified', 'https://www.lendingclub.com/browse/loanDetail.action?loan_id=48010226'], dtype='<U69')"
            ]
          },
          "metadata": {},
          "execution_count": 43
        }
      ],
      "source": [
        "# Variavel 3 removida \n",
        "np.unique(arr_strings[:1])"
      ]
    },
    {
      "cell_type": "markdown",
      "metadata": {
        "id": "AGAK_sxiLcNz"
      },
      "source": [
        "Agora iremos converter a variável SUB_GRADE para conversão numérica"
      ]
    },
    {
      "cell_type": "code",
      "execution_count": 44,
      "metadata": {
        "colab": {
          "base_uri": "https://localhost:8080/"
        },
        "id": "wKfP6UzzLh8O",
        "outputId": "27fc8a77-977c-4a22-bddd-625e4fa25ba4"
      },
      "outputs": [
        {
          "output_type": "execute_result",
          "data": {
            "text/plain": [
              "array(['A1', 'A2', 'A3', 'A4', 'A5', 'B1', 'B2', 'B3', 'B4', 'B5', 'C1', 'C2', 'C3', 'C4', 'C5', 'D1', 'D2', 'D3', 'D4', 'D5', 'E1', 'E2', 'E3', 'E4', 'E5', 'F1', 'F2', 'F3', 'F4', 'F5', 'G1', 'G2',\n",
              "       'G3', 'G4', 'G5', 'H1'], dtype='<U69')"
            ]
          },
          "metadata": {},
          "execution_count": 44
        }
      ],
      "source": [
        "# Variável subgrade\n",
        "np.unique(arr_strings[:,3])"
      ]
    },
    {
      "cell_type": "markdown",
      "metadata": {
        "id": "AvtHl5XXLq9u"
      },
      "source": [
        "Para terminar o tratamento dessa váriavel irei criar um dicionário para que  cada dado tenha uma chave unica "
      ]
    },
    {
      "cell_type": "code",
      "execution_count": 45,
      "metadata": {
        "colab": {
          "base_uri": "https://localhost:8080/",
          "height": 35
        },
        "id": "1_gAEru6LzKU",
        "outputId": "f3ac7692-71c6-4b7c-ce53-8da067f5ec12"
      },
      "outputs": [
        {
          "output_type": "execute_result",
          "data": {
            "text/plain": [
              "'A1'"
            ],
            "application/vnd.google.colaboratory.intrinsic+json": {
              "type": "string"
            }
          },
          "metadata": {},
          "execution_count": 45
        }
      ],
      "source": [
        "# Criando as chaves\n",
        "chave = list(np.unique(arr_strings[:,3]))\n",
        "chave[0]"
      ]
    },
    {
      "cell_type": "code",
      "execution_count": 46,
      "metadata": {
        "colab": {
          "base_uri": "https://localhost:8080/"
        },
        "id": "eAspq8iGL_OP",
        "outputId": "c00a3e86-a998-49b9-eb18-ba46b1322efc"
      },
      "outputs": [
        {
          "output_type": "execute_result",
          "data": {
            "text/plain": [
              "1"
            ]
          },
          "metadata": {},
          "execution_count": 46
        }
      ],
      "source": [
        "# Criando uma lista de valores para cada chave\n",
        "valores = list(range(1, np.unique(arr_strings[:,3]).shape[0] + 1))\n",
        "valores[0]"
      ]
    },
    {
      "cell_type": "markdown",
      "metadata": {
        "id": "Xm5hWiavMkHQ"
      },
      "source": [
        "Com chaves e valores criados , agora irei criar o dicionario utilizando a função `dict` com as variáveis que acabamos de criar "
      ]
    },
    {
      "cell_type": "code",
      "execution_count": 47,
      "metadata": {
        "id": "r43m6yXzMs1L"
      },
      "outputs": [],
      "source": [
        "# Criando o dicionário\n",
        "dict_sub_grade = dict(zip(chave,valores))"
      ]
    },
    {
      "cell_type": "code",
      "execution_count": 48,
      "metadata": {
        "colab": {
          "base_uri": "https://localhost:8080/"
        },
        "id": "wtgu44NXM3Z5",
        "outputId": "67f7a544-cd11-4c43-e7c2-766b39e17c61"
      },
      "outputs": [
        {
          "output_type": "execute_result",
          "data": {
            "text/plain": [
              "{'A1': 1,\n",
              " 'A2': 2,\n",
              " 'A3': 3,\n",
              " 'A4': 4,\n",
              " 'A5': 5,\n",
              " 'B1': 6,\n",
              " 'B2': 7,\n",
              " 'B3': 8,\n",
              " 'B4': 9,\n",
              " 'B5': 10,\n",
              " 'C1': 11,\n",
              " 'C2': 12,\n",
              " 'C3': 13,\n",
              " 'C4': 14,\n",
              " 'C5': 15,\n",
              " 'D1': 16,\n",
              " 'D2': 17,\n",
              " 'D3': 18,\n",
              " 'D4': 19,\n",
              " 'D5': 20,\n",
              " 'E1': 21,\n",
              " 'E2': 22,\n",
              " 'E3': 23,\n",
              " 'E4': 24,\n",
              " 'E5': 25,\n",
              " 'F1': 26,\n",
              " 'F2': 27,\n",
              " 'F3': 28,\n",
              " 'F4': 29,\n",
              " 'F5': 30,\n",
              " 'G1': 31,\n",
              " 'G2': 32,\n",
              " 'G3': 33,\n",
              " 'G4': 34,\n",
              " 'G5': 35,\n",
              " 'H1': 36}"
            ]
          },
          "metadata": {},
          "execution_count": 48
        }
      ],
      "source": [
        "# Visualizando o dicionario\n",
        "dict_sub_grade"
      ]
    },
    {
      "cell_type": "markdown",
      "metadata": {
        "id": "Kolfql2yNQRD"
      },
      "source": [
        "Agora iremos substituir os valores da variável sub_grade pelo dicionário"
      ]
    },
    {
      "cell_type": "code",
      "execution_count": 49,
      "metadata": {
        "id": "EJJMkT7BNZP1"
      },
      "outputs": [],
      "source": [
        "# Loop para substituir os valores da variável sub_grade pelo dicionario\n",
        "for i in np.unique(arr_strings[:,3]):\n",
        "  arr_strings[:,3] = np.where(arr_strings[:,3] == i, dict_sub_grade[i], arr_strings[:,3])"
      ]
    },
    {
      "cell_type": "code",
      "execution_count": 50,
      "metadata": {
        "colab": {
          "base_uri": "https://localhost:8080/"
        },
        "id": "C66kjX9qNrWx",
        "outputId": "18471c11-e4b3-499e-d5e3-52a2f7362bd6"
      },
      "outputs": [
        {
          "output_type": "execute_result",
          "data": {
            "text/plain": [
              "array(['1', '10', '11', '12', '13', '14', '15', '16', '17', '18', '19', '2', '20', '21', '22', '23', '24', '25', '26', '27', '28', '29', '3', '30', '31', '32', '33', '34', '35', '36', '4', '5', '6',\n",
              "       '7', '8', '9'], dtype='<U69')"
            ]
          },
          "metadata": {},
          "execution_count": 50
        }
      ],
      "source": [
        "# Verificando os valores novos\n",
        "np.unique(arr_strings[:,3])"
      ]
    },
    {
      "cell_type": "markdown",
      "metadata": {
        "id": "sopXH78jN6hL"
      },
      "source": [
        "Pronto , agora iremos tratar a proxima variável strings no nosso conjunto de dados"
      ]
    },
    {
      "cell_type": "markdown",
      "metadata": {
        "id": "73IW30xuOwRx"
      },
      "source": [
        "### Pré-Processamento da variável Verification Status com binarização"
      ]
    },
    {
      "cell_type": "code",
      "execution_count": 51,
      "metadata": {
        "colab": {
          "base_uri": "https://localhost:8080/"
        },
        "id": "HQoQlK4nO3q5",
        "outputId": "4efe08f8-eccf-4053-e6ef-9a733fd7b2d0"
      },
      "outputs": [
        {
          "output_type": "execute_result",
          "data": {
            "text/plain": [
              "array(['', 'Not Verified', 'Source Verified', 'Verified'], dtype='<U69')"
            ]
          },
          "metadata": {},
          "execution_count": 51
        }
      ],
      "source": [
        "# Valores unicos da variável\n",
        "np.unique(arr_strings[:,4])"
      ]
    },
    {
      "cell_type": "markdown",
      "metadata": {
        "id": "9k8fduxFPDR9"
      },
      "source": [
        "Temos 3 categorias e um valor ausente. A categoria `source verified` e `verified` são praticamente iguais , então irei juntar as duas. Por fim iremos tratar o valor ausente colocando o valor `NOT VERIFIED`"
      ]
    },
    {
      "cell_type": "code",
      "execution_count": 52,
      "metadata": {
        "id": "UH7VKs6QPY3H"
      },
      "outputs": [],
      "source": [
        "# Usando binariação\n",
        "arr_strings[:,4] = np.where((arr_strings[:,4] == '') | (arr_strings[:,4] == 'Not Verified'), 0,1)"
      ]
    },
    {
      "cell_type": "code",
      "execution_count": 53,
      "metadata": {
        "colab": {
          "base_uri": "https://localhost:8080/"
        },
        "id": "eZT6AvdQQBZB",
        "outputId": "20bdf39a-8909-4d9b-c8d7-f32de56a8951"
      },
      "outputs": [
        {
          "output_type": "execute_result",
          "data": {
            "text/plain": [
              "array(['0', '1'], dtype='<U69')"
            ]
          },
          "metadata": {},
          "execution_count": 53
        }
      ],
      "source": [
        "# Extraindo os novos valores da variável\n",
        "np.unique(arr_strings[:,4])"
      ]
    },
    {
      "cell_type": "markdown",
      "metadata": {
        "id": "KHyNvUijQIPS"
      },
      "source": [
        "Basicamente utilizei a função **np.where** para fazer 2 validações. \n",
        "\n",
        "1 - Verificar se o valor é ausente e se for ausente vai colocar o `0` | \n",
        "2 - Verificar se o valor é Not Verified e se for também colocar o `0`\n",
        "\n",
        "E por fim caso o dado não tivesse submetido nessas condições será colocado o valor `1`"
      ]
    },
    {
      "cell_type": "markdown",
      "metadata": {
        "id": "pTxUwGYM4ict"
      },
      "source": [
        "### Pré-Processamento da variável url com extração do ID"
      ]
    },
    {
      "cell_type": "code",
      "execution_count": 54,
      "metadata": {
        "colab": {
          "base_uri": "https://localhost:8080/"
        },
        "id": "0UVOThig4oON",
        "outputId": "af38f80b-c821-4efc-f465-47edd0db9bf6"
      },
      "outputs": [
        {
          "output_type": "execute_result",
          "data": {
            "text/plain": [
              "array(['https://www.lendingclub.com/browse/loanDetail.action?loan_id=48010226', 'https://www.lendingclub.com/browse/loanDetail.action?loan_id=57693261',\n",
              "       'https://www.lendingclub.com/browse/loanDetail.action?loan_id=59432726', ..., 'https://www.lendingclub.com/browse/loanDetail.action?loan_id=50415990',\n",
              "       'https://www.lendingclub.com/browse/loanDetail.action?loan_id=46154151', 'https://www.lendingclub.com/browse/loanDetail.action?loan_id=66055249'], dtype='<U69')"
            ]
          },
          "metadata": {},
          "execution_count": 54
        }
      ],
      "source": [
        "# Extraindo valores unicos da variável\n",
        "arr_strings[:,5]"
      ]
    },
    {
      "cell_type": "markdown",
      "metadata": {
        "id": "Zp6q7ZCv5CUK"
      },
      "source": [
        "É possível ver que os links são iguais porém há um `ID` que iremos extrair"
      ]
    },
    {
      "cell_type": "code",
      "execution_count": 55,
      "metadata": {
        "colab": {
          "base_uri": "https://localhost:8080/"
        },
        "id": "VfxnZ-bB5NzU",
        "outputId": "88a8c9a9-b7c2-432d-ff87-b6fb163bbbf7"
      },
      "outputs": [
        {
          "output_type": "execute_result",
          "data": {
            "text/plain": [
              "chararray(['48010226', '57693261', '59432726', ..., '50415990', '46154151', '66055249'], dtype='<U69')"
            ]
          },
          "metadata": {},
          "execution_count": 55
        }
      ],
      "source": [
        "# Extraindo somente o ID\n",
        "np.chararray.strip(arr_strings[:,5],'https://www.lendingclub.com/browse/loanDetail.action?loan_id=')"
      ]
    },
    {
      "cell_type": "code",
      "execution_count": 56,
      "metadata": {
        "id": "u76jdBaM5aF-"
      },
      "outputs": [],
      "source": [
        "# Substituindo o dado na coluna inserindo somente os ID's\n",
        "arr_strings[:,5] = np.chararray.strip(arr_strings[:,5],'https://www.lendingclub.com/browse/loanDetail.action?loan_id=')"
      ]
    },
    {
      "cell_type": "code",
      "execution_count": 57,
      "metadata": {
        "colab": {
          "base_uri": "https://localhost:8080/"
        },
        "id": "azj7yJjF6NDj",
        "outputId": "2649b38d-3395-4c92-8823-0fd58d51689b"
      },
      "outputs": [
        {
          "output_type": "execute_result",
          "data": {
            "text/plain": [
              "array(['12606806', '13026045', '1312426', ..., '8138291', '8214572', '849994'], dtype='<U69')"
            ]
          },
          "metadata": {},
          "execution_count": 57
        }
      ],
      "source": [
        "# Verificando os valores substituidos pelo ID\n",
        "np.unique(arr_strings[:,5])"
      ]
    },
    {
      "cell_type": "markdown",
      "metadata": {
        "id": "H3GU0aOw6WN7"
      },
      "source": [
        "Como essa variável é uma string ainda irei muda-la para numérica"
      ]
    },
    {
      "cell_type": "code",
      "execution_count": 58,
      "metadata": {
        "colab": {
          "base_uri": "https://localhost:8080/"
        },
        "id": "BX2O8snR6ktB",
        "outputId": "8f88b85b-acd6-4d34-f5cf-13e7ae13802a"
      },
      "outputs": [
        {
          "output_type": "execute_result",
          "data": {
            "text/plain": [
              "array([48010226, 57693261, 59432726, ..., 50415990, 46154151, 66055249], dtype=int32)"
            ]
          },
          "metadata": {},
          "execution_count": 58
        }
      ],
      "source": [
        "# Convertendo a variável para numérica\n",
        "arr_strings[:,5].astype(dtype = np.int32)"
      ]
    },
    {
      "cell_type": "markdown",
      "metadata": {
        "id": "UdB8spCXAvLY"
      },
      "source": [
        "Investigando os dados é possível concluir que esse `ID` que acabamos de extrair é o mesmo da coluna ID que temos no nosso array de variáveis numéricas."
      ]
    },
    {
      "cell_type": "code",
      "execution_count": 59,
      "metadata": {
        "colab": {
          "base_uri": "https://localhost:8080/",
          "height": 35
        },
        "id": "vAiZKVBd8Fnv",
        "outputId": "edee9b6e-314e-4158-a8b9-f08f3186714a"
      },
      "outputs": [
        {
          "output_type": "execute_result",
          "data": {
            "text/plain": [
              "'id'"
            ],
            "application/vnd.google.colaboratory.intrinsic+json": {
              "type": "string"
            }
          },
          "metadata": {},
          "execution_count": 59
        }
      ],
      "source": [
        "arr_nomes_colunas[0]"
      ]
    },
    {
      "cell_type": "code",
      "execution_count": 60,
      "metadata": {
        "colab": {
          "base_uri": "https://localhost:8080/"
        },
        "id": "_g1dSikO8Ose",
        "outputId": "7281455a-97d1-42c3-b8b0-1648f454af77"
      },
      "outputs": [
        {
          "output_type": "execute_result",
          "data": {
            "text/plain": [
              "True"
            ]
          },
          "metadata": {},
          "execution_count": 60
        }
      ],
      "source": [
        "# Comparando as colunas para saber se tem a mesma informação\n",
        "np.array_equal(arr_numerica[:,0].astype(dtype = np.int32), arr_strings[:,5].astype(dtype = np.int32))"
      ]
    },
    {
      "cell_type": "markdown",
      "metadata": {
        "id": "xM95T--wLFa5"
      },
      "source": [
        "Removendo a coluna ID que extraimos do array de strings para não duplicar informação"
      ]
    },
    {
      "cell_type": "code",
      "execution_count": 61,
      "metadata": {
        "id": "d3Zmw4bxLNew"
      },
      "outputs": [],
      "source": [
        "# Excluindo coluna ID \n",
        "arr_strings = np.delete(arr_strings, 5, axis = 1)"
      ]
    },
    {
      "cell_type": "markdown",
      "metadata": {
        "id": "VZE7bTXENBPf"
      },
      "source": [
        "### Pré-Processamento da variável adress com Categorização"
      ]
    },
    {
      "cell_type": "code",
      "execution_count": 62,
      "metadata": {
        "colab": {
          "base_uri": "https://localhost:8080/"
        },
        "id": "8IQccOyCMypX",
        "outputId": "99552a5e-bc7d-4473-c031-cbf877736795"
      },
      "outputs": [
        {
          "output_type": "execute_result",
          "data": {
            "text/plain": [
              "array(['', 'AK', 'AL', 'AR', 'AZ', 'CA', 'CO', 'CT', 'DC', 'DE', 'FL', 'GA', 'HI', 'IL', 'IN', 'KS', 'KY', 'LA', 'MA', 'MD', 'ME', 'MI', 'MN', 'MO', 'MS', 'MT', 'NC', 'ND', 'NE', 'NH', 'NJ', 'NM',\n",
              "       'NV', 'NY', 'OH', 'OK', 'OR', 'PA', 'RI', 'SC', 'SD', 'TN', 'TX', 'UT', 'VA', 'VT', 'WA', 'WI', 'WV', 'WY'], dtype='<U69')"
            ]
          },
          "metadata": {},
          "execution_count": 62
        }
      ],
      "source": [
        "# Extrair os valore unicos da variável\n",
        "np.unique(arr_strings[:,5])"
      ]
    },
    {
      "cell_type": "code",
      "execution_count": 63,
      "metadata": {
        "id": "hM7vhMB2N3rA"
      },
      "outputs": [],
      "source": [
        "# Extraindo os nomes e contagem\n",
        "states_name,  states_count = np.unique(arr_strings[:,5], return_counts = True)"
      ]
    },
    {
      "cell_type": "code",
      "execution_count": 64,
      "metadata": {
        "id": "PRSD_OKeTnMh"
      },
      "outputs": [],
      "source": [
        "# Ordenando em ordem descrescente\n",
        "states_count_sorted = np.argsort(-states_count)"
      ]
    },
    {
      "cell_type": "code",
      "source": [
        "# Mostrando o resultado\n",
        "states_name[states_count_sorted], states_count[states_count_sorted]"
      ],
      "metadata": {
        "colab": {
          "base_uri": "https://localhost:8080/"
        },
        "id": "5zJssebnYPOn",
        "outputId": "a1d2f776-87ee-4f18-82e0-c6c327723164"
      },
      "execution_count": 65,
      "outputs": [
        {
          "output_type": "execute_result",
          "data": {
            "text/plain": [
              "(array(['CA', 'NY', 'TX', 'FL', '', 'IL', 'NJ', 'GA', 'PA', 'OH', 'MI', 'NC', 'VA', 'MD', 'AZ', 'WA', 'MA', 'CO', 'MO', 'MN', 'IN', 'WI', 'CT', 'TN', 'NV', 'AL', 'LA', 'OR', 'SC', 'KY', 'KS', 'OK',\n",
              "        'UT', 'AR', 'MS', 'NH', 'NM', 'WV', 'HI', 'RI', 'MT', 'DE', 'DC', 'WY', 'AK', 'NE', 'SD', 'VT', 'ND', 'ME'], dtype='<U69'),\n",
              " array([1336,  777,  758,  690,  500,  389,  341,  321,  320,  312,  267,  261,  242,  222,  220,  216,  210,  201,  160,  156,  152,  148,  143,  143,  130,  119,  116,  108,  107,   84,   84,   83,\n",
              "          74,   74,   61,   58,   57,   49,   44,   40,   28,   27,   27,   27,   26,   25,   24,   17,   16,   10]))"
            ]
          },
          "metadata": {},
          "execution_count": 65
        }
      ]
    },
    {
      "cell_type": "code",
      "source": [
        "# Substituindo o valor ausente por 0 \n",
        "arr_strings[:,5] = np.where(arr_strings[:,5] =='',0 ,arr_strings[:,5])"
      ],
      "metadata": {
        "id": "YZSCo75jYoBB"
      },
      "execution_count": 66,
      "outputs": []
    },
    {
      "cell_type": "markdown",
      "source": [
        "Agora irei separar os estados por regiões de acordo com esse mapa: https://www2.census.gov/geo/pdfs/maps-data/maps/reference/us_regdiv.pdf"
      ],
      "metadata": {
        "id": "d8iEAQEdZAdu"
      }
    },
    {
      "cell_type": "code",
      "source": [
        "# Separando os estados por regioes\n",
        "state_west = np.array(['WA','OR','CA','NV','ID','MT','WY','UT','CO','AZ','NM','HI','AK'])\n",
        "state_south = np.array(['TX','OK','AR','LA','MS','AL','TN','KY','FL','GA','SC','NC','VA','WV','MD','DE','DC'])\n",
        "state_midwest = np.array(['ND','SD','NE','KS','MN','IA','MO','WI','IL','IN','MI','OH'])\n",
        "state_east = np.array(['PA','NY','NJ','CT','MA','VT','NH','ME','RI','state'])"
      ],
      "metadata": {
        "id": "2lYGS839ZnhZ"
      },
      "execution_count": 67,
      "outputs": []
    },
    {
      "cell_type": "code",
      "source": [
        "# Substituindo o valor do estado pelo numero\n",
        "arr_strings[:,5] = np.where(np.isin(arr_strings[:,5],state_west),1 , arr_strings[:,5])\n",
        "arr_strings[:,5] = np.where(np.isin(arr_strings[:,5],state_south),2 , arr_strings[:,5])\n",
        "arr_strings[:,5] = np.where(np.isin(arr_strings[:,5],state_midwest),3 , arr_strings[:,5])\n",
        "arr_strings[:,5] = np.where(np.isin(arr_strings[:,5],state_east),4 , arr_strings[:,5])"
      ],
      "metadata": {
        "id": "YL1UTbi42e42"
      },
      "execution_count": 68,
      "outputs": []
    },
    {
      "cell_type": "code",
      "source": [
        "# Verificando os valores novos\n",
        "np.unique(arr_strings[:,5])"
      ],
      "metadata": {
        "colab": {
          "base_uri": "https://localhost:8080/"
        },
        "id": "Vx6mjD4s25Hr",
        "outputId": "0bd47296-4163-46c4-b65d-ff213f3f3b39"
      },
      "execution_count": 69,
      "outputs": [
        {
          "output_type": "execute_result",
          "data": {
            "text/plain": [
              "array(['0', '1', '2', '3', '4'], dtype='<U69')"
            ]
          },
          "metadata": {},
          "execution_count": 69
        }
      ]
    },
    {
      "cell_type": "code",
      "source": [
        "# Convertendo o array para numerico\n",
        "arr_strings = arr_strings.astype(int)"
      ],
      "metadata": {
        "id": "UW7lDu_W3Xjl"
      },
      "execution_count": 70,
      "outputs": []
    },
    {
      "cell_type": "code",
      "source": [
        "# Verificando o tipo do array\n",
        "arr_strings.dtype"
      ],
      "metadata": {
        "colab": {
          "base_uri": "https://localhost:8080/"
        },
        "id": "3c1cZat24C5y",
        "outputId": "3a9cf363-6496-4b97-d6f6-d033801460ee"
      },
      "execution_count": 71,
      "outputs": [
        {
          "output_type": "execute_result",
          "data": {
            "text/plain": [
              "dtype('int64')"
            ]
          },
          "metadata": {},
          "execution_count": 71
        }
      ]
    },
    {
      "cell_type": "markdown",
      "source": [
        "## MANIPULANDO VARIÁVEIS NUMÉRICAS"
      ],
      "metadata": {
        "id": "q2wOXZuM2sxF"
      }
    },
    {
      "cell_type": "markdown",
      "source": [
        "Verificando o array numerico"
      ],
      "metadata": {
        "id": "bCyGZq-33GyZ"
      }
    },
    {
      "cell_type": "code",
      "source": [
        "# Verificando os valroes\n",
        "arr_numerica"
      ],
      "metadata": {
        "colab": {
          "base_uri": "https://localhost:8080/"
        },
        "id": "DNL8CAMm2_OX",
        "outputId": "ea67a00c-d337-4b94-bf99-e86ef8dd349e"
      },
      "execution_count": 72,
      "outputs": [
        {
          "output_type": "execute_result",
          "data": {
            "text/plain": [
              "array([[48010226.  ,    35000.  ,    35000.  ,       13.33,     1184.86,     9452.96],\n",
              "       [57693261.  ,    30000.  ,    30000.  , 68616520.  ,      938.57,     4679.7 ],\n",
              "       [59432726.  ,    15000.  ,    15000.  , 68616520.  ,      494.86,     1969.83],\n",
              "       ...,\n",
              "       [50415990.  ,    10000.  ,    10000.  , 68616520.  , 68616520.  ,     2185.64],\n",
              "       [46154151.  , 68616520.  ,    10000.  ,       16.55,      354.3 ,     3199.4 ],\n",
              "       [66055249.  ,    10000.  ,    10000.  , 68616520.  ,      309.97,      301.9 ]])"
            ]
          },
          "metadata": {},
          "execution_count": 72
        }
      ]
    },
    {
      "cell_type": "markdown",
      "source": [
        "No começo do projeto foi inserido um valor coringa em valores ausentes , logo não temos valores ausentes nesse conjunto "
      ],
      "metadata": {
        "id": "omObRlJl3LsJ"
      }
    },
    {
      "cell_type": "code",
      "source": [
        "# Verificando se há valores ausentes\n",
        "np.isnan(arr_numerica).sum()"
      ],
      "metadata": {
        "colab": {
          "base_uri": "https://localhost:8080/"
        },
        "id": "yVZwWarB2_6d",
        "outputId": "e67a2416-d686-4db0-bf2f-372675285b49"
      },
      "execution_count": 73,
      "outputs": [
        {
          "output_type": "execute_result",
          "data": {
            "text/plain": [
              "0"
            ]
          },
          "metadata": {},
          "execution_count": 73
        }
      ]
    },
    {
      "cell_type": "markdown",
      "source": [
        "Criando um array com valor minimo , média e maximo ignorando NAN"
      ],
      "metadata": {
        "id": "5pydKe5a75Q2"
      }
    },
    {
      "cell_type": "code",
      "source": [
        "# Usando esse array para tratar valores ausentes\n",
        "arr_stats = np.array([np.nanmin(dados, axis = 0), media_ignorando_nan, np.nanmax(dados, axis= 0)])\n",
        "print(arr_stats)"
      ],
      "metadata": {
        "colab": {
          "base_uri": "https://localhost:8080/"
        },
        "id": "OOy5xGqC9KoE",
        "outputId": "32916e61-f91a-41b2-b9b8-1226afcf9467"
      },
      "execution_count": 74,
      "outputs": [
        {
          "output_type": "stream",
          "name": "stdout",
          "text": [
            "[[  373332.           nan     1000.           nan     1000.           nan        6.         31.42         nan         nan         nan         nan         nan        0.  ]\n",
            " [54015809.19         nan    15273.46         nan    15311.04         nan       16.62      440.92         nan         nan         nan         nan         nan     3143.85]\n",
            " [68616519.           nan    35000.           nan    35000.           nan       28.99     1372.97         nan         nan         nan         nan         nan    41913.62]]\n"
          ]
        },
        {
          "output_type": "stream",
          "name": "stderr",
          "text": [
            "<ipython-input-74-3a328caf35ab>:2: RuntimeWarning: All-NaN slice encountered\n",
            "  arr_stats = np.array([np.nanmin(dados, axis = 0), media_ignorando_nan, np.nanmax(dados, axis= 0)])\n"
          ]
        }
      ]
    },
    {
      "cell_type": "code",
      "source": [
        "arr_stats[:, colunas_numericas]"
      ],
      "metadata": {
        "colab": {
          "base_uri": "https://localhost:8080/"
        },
        "id": "B8WaMvSS9hSN",
        "outputId": "3b41c540-9ba7-4b1a-8bb8-2b8702ff1998"
      },
      "execution_count": 75,
      "outputs": [
        {
          "output_type": "execute_result",
          "data": {
            "text/plain": [
              "array([[  373332.  ,     1000.  ,     1000.  ,        6.  ,       31.42,        0.  ],\n",
              "       [54015809.19,    15273.46,    15311.04,       16.62,      440.92,     3143.85],\n",
              "       [68616519.  ,    35000.  ,    35000.  ,       28.99,     1372.97,    41913.62]])"
            ]
          },
          "metadata": {},
          "execution_count": 75
        }
      ]
    },
    {
      "cell_type": "markdown",
      "source": [
        "### Pré-Processamento da variável funded_amnt"
      ],
      "metadata": {
        "id": "jrN8otbf9y62"
      }
    },
    {
      "cell_type": "code",
      "source": [
        "# Extraindo os valores da variável\n",
        "arr_numerica[:,2]"
      ],
      "metadata": {
        "colab": {
          "base_uri": "https://localhost:8080/"
        },
        "id": "g0NGoeTY93e0",
        "outputId": "60169eb1-7bc9-4bfc-a197-7fb9f9d519cb"
      },
      "execution_count": 76,
      "outputs": [
        {
          "output_type": "execute_result",
          "data": {
            "text/plain": [
              "array([35000., 30000., 15000., ..., 10000., 10000., 10000.])"
            ]
          },
          "metadata": {},
          "execution_count": 76
        }
      ]
    },
    {
      "cell_type": "code",
      "source": [
        "# Verificando o valor para ser aplicado\n",
        "arr_stats[0,colunas_numericas[2]]"
      ],
      "metadata": {
        "colab": {
          "base_uri": "https://localhost:8080/"
        },
        "id": "kB3MqJzN_uL2",
        "outputId": "09894e7d-873d-4086-d501-0e3e6b59d81e"
      },
      "execution_count": 77,
      "outputs": [
        {
          "output_type": "execute_result",
          "data": {
            "text/plain": [
              "1000.0"
            ]
          },
          "metadata": {},
          "execution_count": 77
        }
      ]
    },
    {
      "cell_type": "code",
      "source": [
        "# Ajustando os valores na coluna\n",
        "\n",
        "arr_numerica[:,2] = np.where(arr_numerica[:,2] == valor_coringa, arr_stats[0, colunas_numericas[2]], arr_numerica[:,2])"
      ],
      "metadata": {
        "id": "J_cC6hVw_8Bi"
      },
      "execution_count": 78,
      "outputs": []
    },
    {
      "cell_type": "code",
      "source": [
        "arr_numerica[:,2]"
      ],
      "metadata": {
        "colab": {
          "base_uri": "https://localhost:8080/"
        },
        "id": "j_Z08PstAcy1",
        "outputId": "14d577fd-8a7b-4b99-ea07-c80020c3c57f"
      },
      "execution_count": 79,
      "outputs": [
        {
          "output_type": "execute_result",
          "data": {
            "text/plain": [
              "array([35000., 30000., 15000., ..., 10000., 10000., 10000.])"
            ]
          },
          "metadata": {},
          "execution_count": 79
        }
      ]
    },
    {
      "cell_type": "markdown",
      "source": [
        "### Pré-Processamento das variáveis loan_amnt, int_rate, installment e total_pymnt"
      ],
      "metadata": {
        "id": "eH3znT6BA8re"
      }
    },
    {
      "cell_type": "code",
      "source": [
        "# Loop para substituir o valor ausente (valor_coringa) pelos valores do array de estatistica\n",
        "for i in [1,3,4,5]:\n",
        "  arr_numerica[:,i] = np.where(arr_numerica[:,i] == valor_coringa,\n",
        "                               arr_stats[2, colunas_numericas[i]],\n",
        "                               arr_numerica[:,i]\n",
        "                               )"
      ],
      "metadata": {
        "id": "jgkywruEBJna"
      },
      "execution_count": 80,
      "outputs": []
    },
    {
      "cell_type": "code",
      "source": [
        "arr_numerica"
      ],
      "metadata": {
        "colab": {
          "base_uri": "https://localhost:8080/"
        },
        "id": "pFYRqPFYBoI7",
        "outputId": "33007429-927f-4979-aa4c-62d86ef473fe"
      },
      "execution_count": 81,
      "outputs": [
        {
          "output_type": "execute_result",
          "data": {
            "text/plain": [
              "array([[48010226.  ,    35000.  ,    35000.  ,       13.33,     1184.86,     9452.96],\n",
              "       [57693261.  ,    30000.  ,    30000.  ,       28.99,      938.57,     4679.7 ],\n",
              "       [59432726.  ,    15000.  ,    15000.  ,       28.99,      494.86,     1969.83],\n",
              "       ...,\n",
              "       [50415990.  ,    10000.  ,    10000.  ,       28.99,     1372.97,     2185.64],\n",
              "       [46154151.  ,    35000.  ,    10000.  ,       16.55,      354.3 ,     3199.4 ],\n",
              "       [66055249.  ,    10000.  ,    10000.  ,       28.99,      309.97,      301.9 ]])"
            ]
          },
          "metadata": {},
          "execution_count": 81
        }
      ]
    },
    {
      "cell_type": "markdown",
      "source": [
        "### Trabalahando com o segundo dataset"
      ],
      "metadata": {
        "id": "Hq0Vv4Ko6PxS"
      }
    },
    {
      "cell_type": "code",
      "source": [
        "# Carrega o segundo dataset\n",
        "dados_cot = np.genfromtxt(\"dataset2.csv\", \n",
        "                          delimiter = ',', \n",
        "                          autostrip = True, \n",
        "                          skip_header = 1, \n",
        "                          usecols = 3)"
      ],
      "metadata": {
        "id": "srt38tdM6Tom"
      },
      "execution_count": 83,
      "outputs": []
    },
    {
      "cell_type": "code",
      "source": [
        "# Visualizando os dados\n",
        "dados_cot"
      ],
      "metadata": {
        "colab": {
          "base_uri": "https://localhost:8080/"
        },
        "id": "NvSKLlxn6WnG",
        "outputId": "6d47785b-9df7-42dc-a560-536eacab8d08"
      },
      "execution_count": 84,
      "outputs": [
        {
          "output_type": "execute_result",
          "data": {
            "text/plain": [
              "array([1.13, 1.12, 1.08, 1.11, 1.1 , 1.12, 1.09, 1.13, 1.13, 1.1 , 1.06, 1.09])"
            ]
          },
          "metadata": {},
          "execution_count": 84
        }
      ]
    },
    {
      "cell_type": "code",
      "source": [
        "# Verificando o nome das colunas\n",
        "arr_nomes_colunas"
      ],
      "metadata": {
        "colab": {
          "base_uri": "https://localhost:8080/"
        },
        "id": "PLJhiV9s6cCF",
        "outputId": "c8e646b9-c20b-4abe-9c1e-33b8b1194e11"
      },
      "execution_count": 88,
      "outputs": [
        {
          "output_type": "execute_result",
          "data": {
            "text/plain": [
              "array(['id', 'issue_d', 'loan_amnt', 'term_months', 'funded_amnt', 'term', 'int_rate', 'installment', 'grade', 'sub_grade', 'verification_status', 'url', 'addr_state', 'total_pymnt'], dtype='<U19')"
            ]
          },
          "metadata": {},
          "execution_count": 88
        }
      ]
    },
    {
      "cell_type": "markdown",
      "source": [
        "Podemos verificar que a coluna issue_d que é nossa coluna de Mês está na posição 1 , logo iremos trabalhar com ela"
      ],
      "metadata": {
        "id": "9bNthM5C6szv"
      }
    },
    {
      "cell_type": "code",
      "source": [
        "# A coluna 0 do array de strings é o mês\n",
        "arr_strings[:,0]"
      ],
      "metadata": {
        "colab": {
          "base_uri": "https://localhost:8080/"
        },
        "id": "q8esRQ9t64fU",
        "outputId": "52362868-6c26-4f4d-a1f2-204766775e28"
      },
      "execution_count": 89,
      "outputs": [
        {
          "output_type": "execute_result",
          "data": {
            "text/plain": [
              "array([ 5,  0,  9, ...,  6,  4, 12])"
            ]
          },
          "metadata": {},
          "execution_count": 89
        }
      ]
    },
    {
      "cell_type": "code",
      "source": [
        "# Vamos atribuir a coluna de mês à variável chamada exchange_rate\n",
        "exchange_rate = arr_strings[:,0]"
      ],
      "metadata": {
        "id": "nebyN9kJ69Jy"
      },
      "execution_count": 90,
      "outputs": []
    },
    {
      "cell_type": "code",
      "source": [
        "# Verificando se foi atribuido os valroes \n",
        "exchange_rate"
      ],
      "metadata": {
        "colab": {
          "base_uri": "https://localhost:8080/"
        },
        "id": "g615DD7F6_k9",
        "outputId": "de3ed960-a0e6-4c29-e0b6-d9d67c48dd2b"
      },
      "execution_count": 91,
      "outputs": [
        {
          "output_type": "execute_result",
          "data": {
            "text/plain": [
              "array([ 5,  0,  9, ...,  6,  4, 12])"
            ]
          },
          "metadata": {},
          "execution_count": 91
        }
      ]
    },
    {
      "cell_type": "code",
      "source": [
        "# Loop para preencher a variável exchange_rate com a taxa correspondente ao mês\n",
        "# Usamos dados_cot[i - 1] devido a forma como carregamos os meses para comportar o zero\n",
        "for i in range(1,13):\n",
        "    exchange_rate = np.where(exchange_rate == i, dados_cot[i - 1], exchange_rate) "
      ],
      "metadata": {
        "id": "9Cz8iiFm7BIU"
      },
      "execution_count": 92,
      "outputs": []
    },
    {
      "cell_type": "code",
      "source": [
        "# Verificando os valores depois o loop\n",
        "exchange_rate"
      ],
      "metadata": {
        "colab": {
          "base_uri": "https://localhost:8080/"
        },
        "id": "AygTExBP7JS8",
        "outputId": "dcab4196-14e0-4f42-aa52-5094537eaf74"
      },
      "execution_count": 93,
      "outputs": [
        {
          "output_type": "execute_result",
          "data": {
            "text/plain": [
              "array([1.1 , 0.  , 1.13, ..., 1.12, 1.11, 1.09])"
            ]
          },
          "metadata": {},
          "execution_count": 93
        }
      ]
    },
    {
      "cell_type": "code",
      "source": [
        "# Onde a taxa de câmbio estiver com zero substituímos pela média\n",
        "exchange_rate = np.where(exchange_rate == 0, np.mean(dados_cot), exchange_rate)"
      ],
      "metadata": {
        "id": "YJv8C_KZ7JmQ"
      },
      "execution_count": 94,
      "outputs": []
    },
    {
      "cell_type": "code",
      "source": [
        "exchange_rate"
      ],
      "metadata": {
        "colab": {
          "base_uri": "https://localhost:8080/"
        },
        "id": "9Fawx-1b7L8b",
        "outputId": "824df62e-66e6-4af4-8a07-9887f86a6fc4"
      },
      "execution_count": 95,
      "outputs": [
        {
          "output_type": "execute_result",
          "data": {
            "text/plain": [
              "array([1.1 , 1.11, 1.13, ..., 1.12, 1.11, 1.09])"
            ]
          },
          "metadata": {},
          "execution_count": 95
        }
      ]
    },
    {
      "cell_type": "markdown",
      "source": [
        "Agora irei verificar se o `exchange_rate` tem o mesmo tamanho que o `array_numerica`"
      ],
      "metadata": {
        "id": "KyhzaFd47WX1"
      }
    },
    {
      "cell_type": "code",
      "source": [
        "# Tamanho do exchange_rate\n",
        "exchange_rate.shape"
      ],
      "metadata": {
        "colab": {
          "base_uri": "https://localhost:8080/"
        },
        "id": "ocXVs5nJ7dPq",
        "outputId": "43b0d491-9add-4d1b-ac4f-e7f3d5c8caeb"
      },
      "execution_count": 96,
      "outputs": [
        {
          "output_type": "execute_result",
          "data": {
            "text/plain": [
              "(10000,)"
            ]
          },
          "metadata": {},
          "execution_count": 96
        }
      ]
    },
    {
      "cell_type": "code",
      "source": [
        "# Tamanho do array numerico\n",
        "arr_numerica.shape"
      ],
      "metadata": {
        "colab": {
          "base_uri": "https://localhost:8080/"
        },
        "id": "PbE7RL7q7fwN",
        "outputId": "8195ad14-2d04-474d-fcc1-a5f0449f06a2"
      },
      "execution_count": 98,
      "outputs": [
        {
          "output_type": "execute_result",
          "data": {
            "text/plain": [
              "(10000, 6)"
            ]
          },
          "metadata": {},
          "execution_count": 98
        }
      ]
    },
    {
      "cell_type": "code",
      "source": [
        "exchange_rate = np.reshape(exchange_rate, (10000,1))"
      ],
      "metadata": {
        "id": "Z7w06XqA7j4U"
      },
      "execution_count": 99,
      "outputs": []
    },
    {
      "cell_type": "code",
      "source": [
        "# Concatenação dos arrays\n",
        "arr_numerica = np.hstack((arr_numerica, exchange_rate))"
      ],
      "metadata": {
        "id": "hiWA-2qX7ojE"
      },
      "execution_count": 102,
      "outputs": []
    },
    {
      "cell_type": "code",
      "source": [
        "# Inclui o nome da coluna no array de nomes de colunas\n",
        "header_numerica = np.concatenate((header_numerica, np.array(['exchange_rate'])))"
      ],
      "metadata": {
        "id": "Yacf4fPqDJwY"
      },
      "execution_count": 117,
      "outputs": []
    },
    {
      "cell_type": "code",
      "source": [
        "header_numerica"
      ],
      "metadata": {
        "colab": {
          "base_uri": "https://localhost:8080/"
        },
        "id": "CxMF2m9GDLKz",
        "outputId": "dad57593-d9f2-4dc4-cac2-1940bbc926e4"
      },
      "execution_count": 118,
      "outputs": [
        {
          "output_type": "execute_result",
          "data": {
            "text/plain": [
              "array(['id', 'loan_amnt', 'funded_amnt', 'int_rate', 'installment', 'total_pymnt', 'exchange_rate'], dtype='<U19')"
            ]
          },
          "metadata": {},
          "execution_count": 118
        }
      ]
    },
    {
      "cell_type": "markdown",
      "source": [
        "Agora irei criar colunas para as taxas de câmbio em Dólar e Euro"
      ],
      "metadata": {
        "id": "gIp28hfUC7-D"
      }
    },
    {
      "cell_type": "code",
      "source": [
        "# Colunas em USD\n",
        "colunas_dolar = np.array([1,2,4,5])"
      ],
      "metadata": {
        "id": "-gOcuKOWDE5Q"
      },
      "execution_count": 120,
      "outputs": []
    },
    {
      "cell_type": "code",
      "source": [
        "# Visualiza\n",
        "arr_numerica[:,6]"
      ],
      "metadata": {
        "colab": {
          "base_uri": "https://localhost:8080/"
        },
        "id": "PLM2peJgDYV8",
        "outputId": "f21b142d-9ab6-4f34-e5f1-47046822620a"
      },
      "execution_count": 122,
      "outputs": [
        {
          "output_type": "execute_result",
          "data": {
            "text/plain": [
              "array([1.1 , 1.11, 1.13, ..., 1.12, 1.11, 1.09])"
            ]
          },
          "metadata": {},
          "execution_count": 122
        }
      ]
    },
    {
      "cell_type": "code",
      "source": [
        "# Tamanho\n",
        "arr_numerica.shape"
      ],
      "metadata": {
        "colab": {
          "base_uri": "https://localhost:8080/"
        },
        "id": "Uzt7jCJODbAd",
        "outputId": "aa711499-54cb-4a31-bfe2-fa543e9c8619"
      },
      "execution_count": 123,
      "outputs": [
        {
          "output_type": "execute_result",
          "data": {
            "text/plain": [
              "(10000, 7)"
            ]
          },
          "metadata": {},
          "execution_count": 123
        }
      ]
    },
    {
      "cell_type": "code",
      "source": [
        "# Loop pelas colunas em dolar para aplicar a taxa de conversão para EURO\n",
        "for i in colunas_dolar:\n",
        "    arr_numerica = np.hstack((arr_numerica, np.reshape(arr_numerica[:,i] / arr_numerica[:,6], (10000,1))))"
      ],
      "metadata": {
        "id": "2Vd74sFkDio2"
      },
      "execution_count": 124,
      "outputs": []
    },
    {
      "cell_type": "code",
      "source": [
        "# Novo tamanho do array\n",
        "arr_numerica.shape"
      ],
      "metadata": {
        "colab": {
          "base_uri": "https://localhost:8080/"
        },
        "id": "mDwdG4mBDqzv",
        "outputId": "d4d149ed-c1b9-48ee-e4cf-5fb3e6a4951e"
      },
      "execution_count": 125,
      "outputs": [
        {
          "output_type": "execute_result",
          "data": {
            "text/plain": [
              "(10000, 11)"
            ]
          },
          "metadata": {},
          "execution_count": 125
        }
      ]
    },
    {
      "cell_type": "code",
      "source": [
        "# Visualiza os dados\n",
        "arr_numerica"
      ],
      "metadata": {
        "colab": {
          "base_uri": "https://localhost:8080/"
        },
        "id": "LM4bwZ7KDwNZ",
        "outputId": "e6967899-2670-4c0d-8582-7595cc567931"
      },
      "execution_count": 127,
      "outputs": [
        {
          "output_type": "execute_result",
          "data": {
            "text/plain": [
              "array([[48010226.  ,    35000.  ,    35000.  , ...,    31933.3 ,     1081.04,     8624.69],\n",
              "       [57693261.  ,    30000.  ,    30000.  , ...,    27132.46,      848.86,     4232.39],\n",
              "       [59432726.  ,    15000.  ,    15000.  , ...,    13326.3 ,      439.64,     1750.04],\n",
              "       ...,\n",
              "       [50415990.  ,    10000.  ,    10000.  , ...,     8910.3 ,     1223.36,     1947.47],\n",
              "       [46154151.  ,    35000.  ,    10000.  , ...,     8997.4 ,      318.78,     2878.63],\n",
              "       [66055249.  ,    10000.  ,    10000.  , ...,     9145.8 ,      283.49,      276.11]])"
            ]
          },
          "metadata": {},
          "execution_count": 127
        }
      ]
    },
    {
      "cell_type": "markdown",
      "source": [
        "Vamos aumentar o numero do cabeçalho com colunas novas"
      ],
      "metadata": {
        "id": "M05jZZZeFZyS"
      }
    },
    {
      "cell_type": "code",
      "source": [
        "header_additional = np.array([arr_nomes_colunas + '_EUR' for arr_nomes_colunas in header_numerica[colunas_dolar]])"
      ],
      "metadata": {
        "id": "pz4u30KTDysJ"
      },
      "execution_count": 129,
      "outputs": []
    },
    {
      "cell_type": "code",
      "source": [
        "header_additional"
      ],
      "metadata": {
        "colab": {
          "base_uri": "https://localhost:8080/"
        },
        "id": "kPXEvJbAFh57",
        "outputId": "cdbbcb07-301c-4472-84fc-78231ccfe61f"
      },
      "execution_count": 130,
      "outputs": [
        {
          "output_type": "execute_result",
          "data": {
            "text/plain": [
              "array(['loan_amnt_EUR', 'funded_amnt_EUR', 'installment_EUR', 'total_pymnt_EUR'], dtype='<U15')"
            ]
          },
          "metadata": {},
          "execution_count": 130
        }
      ]
    },
    {
      "cell_type": "code",
      "source": [
        "header_numerica = np.concatenate((header_numerica, header_additional))"
      ],
      "metadata": {
        "id": "OAEa1_w2FwlY"
      },
      "execution_count": 131,
      "outputs": []
    },
    {
      "cell_type": "code",
      "source": [
        "header_numerica"
      ],
      "metadata": {
        "colab": {
          "base_uri": "https://localhost:8080/"
        },
        "id": "c6zKBvFlF0gi",
        "outputId": "e0eebef5-f672-4207-99f7-0acf4c281b6e"
      },
      "execution_count": 133,
      "outputs": [
        {
          "output_type": "execute_result",
          "data": {
            "text/plain": [
              "array(['id', 'loan_amnt', 'funded_amnt', 'int_rate', 'installment', 'total_pymnt', 'exchange_rate', 'loan_amnt_EUR', 'funded_amnt_EUR', 'installment_EUR', 'total_pymnt_EUR'], dtype='<U19')"
            ]
          },
          "metadata": {},
          "execution_count": 133
        }
      ]
    },
    {
      "cell_type": "code",
      "source": [
        "header_numerica[colunas_dolar] = np.array([arr_nomes_colunas + '_USD' for arr_nomes_colunas in header_numerica[colunas_dolar]])"
      ],
      "metadata": {
        "id": "LBJviRv1F0yf"
      },
      "execution_count": 135,
      "outputs": []
    },
    {
      "cell_type": "code",
      "source": [
        "header_numerica"
      ],
      "metadata": {
        "colab": {
          "base_uri": "https://localhost:8080/"
        },
        "id": "lzY-cjF-GAJS",
        "outputId": "9f95c3b9-1612-497f-fca6-0dae05424cc3"
      },
      "execution_count": 136,
      "outputs": [
        {
          "output_type": "execute_result",
          "data": {
            "text/plain": [
              "array(['id', 'loan_amnt_USD', 'funded_amnt_USD', 'int_rate', 'installment_USD', 'total_pymnt_USD', 'exchange_rate', 'loan_amnt_EUR', 'funded_amnt_EUR', 'installment_EUR', 'total_pymnt_EUR'],\n",
              "      dtype='<U19')"
            ]
          },
          "metadata": {},
          "execution_count": 136
        }
      ]
    },
    {
      "cell_type": "code",
      "source": [
        "columns_index_order = [0,1,7,2,8,3,4,9,5,10,6]"
      ],
      "metadata": {
        "id": "bbrZIl7bGXiH"
      },
      "execution_count": 137,
      "outputs": []
    },
    {
      "cell_type": "code",
      "source": [
        "header_numerica = header_numerica[columns_index_order]"
      ],
      "metadata": {
        "id": "Y8sU2jMiGaEV"
      },
      "execution_count": 138,
      "outputs": []
    },
    {
      "cell_type": "code",
      "source": [
        "arr_numerica"
      ],
      "metadata": {
        "colab": {
          "base_uri": "https://localhost:8080/"
        },
        "id": "TB_xWjPEGdoL",
        "outputId": "5eb0114d-2493-4f5e-f577-0fa2d25ea549"
      },
      "execution_count": 139,
      "outputs": [
        {
          "output_type": "execute_result",
          "data": {
            "text/plain": [
              "array([[48010226.  ,    35000.  ,    35000.  , ...,    31933.3 ,     1081.04,     8624.69],\n",
              "       [57693261.  ,    30000.  ,    30000.  , ...,    27132.46,      848.86,     4232.39],\n",
              "       [59432726.  ,    15000.  ,    15000.  , ...,    13326.3 ,      439.64,     1750.04],\n",
              "       ...,\n",
              "       [50415990.  ,    10000.  ,    10000.  , ...,     8910.3 ,     1223.36,     1947.47],\n",
              "       [46154151.  ,    35000.  ,    10000.  , ...,     8997.4 ,      318.78,     2878.63],\n",
              "       [66055249.  ,    10000.  ,    10000.  , ...,     9145.8 ,      283.49,      276.11]])"
            ]
          },
          "metadata": {},
          "execution_count": 139
        }
      ]
    },
    {
      "cell_type": "code",
      "source": [
        "arr_numerica = arr_numerica[:,columns_index_order]"
      ],
      "metadata": {
        "id": "jbMReqIaGd_X"
      },
      "execution_count": 140,
      "outputs": []
    },
    {
      "cell_type": "markdown",
      "source": [
        "### Pré-Processamento da variável int_rate"
      ],
      "metadata": {
        "id": "jG2vorsGGg2v"
      }
    },
    {
      "cell_type": "code",
      "source": [
        "# Verificando as colunas numericas\n",
        "header_numerica"
      ],
      "metadata": {
        "colab": {
          "base_uri": "https://localhost:8080/"
        },
        "id": "RqLKmb7iGlHH",
        "outputId": "79f25da1-7440-4192-f167-ebd3c97a2e24"
      },
      "execution_count": 142,
      "outputs": [
        {
          "output_type": "execute_result",
          "data": {
            "text/plain": [
              "array(['id', 'loan_amnt_USD', 'loan_amnt_EUR', 'funded_amnt_USD', 'funded_amnt_EUR', 'int_rate', 'installment_USD', 'installment_EUR', 'total_pymnt_USD', 'total_pymnt_EUR', 'exchange_rate'],\n",
              "      dtype='<U19')"
            ]
          },
          "metadata": {},
          "execution_count": 142
        }
      ]
    },
    {
      "cell_type": "code",
      "source": [
        "# Extraindo os valores\n",
        "arr_numerica[:,5]"
      ],
      "metadata": {
        "colab": {
          "base_uri": "https://localhost:8080/"
        },
        "id": "fV0DDK3YGn1E",
        "outputId": "bd0a856f-9ef7-4342-8cc7-d7fb998c1f7c"
      },
      "execution_count": 144,
      "outputs": [
        {
          "output_type": "execute_result",
          "data": {
            "text/plain": [
              "array([13.33, 28.99, 28.99, ..., 28.99, 16.55, 28.99])"
            ]
          },
          "metadata": {},
          "execution_count": 144
        }
      ]
    },
    {
      "cell_type": "code",
      "source": [
        "# Vamos apenas dividir por 100\n",
        "arr_numerica[:,5] = arr_numerica[:,5] / 100"
      ],
      "metadata": {
        "id": "2AaLlNAWGunm"
      },
      "execution_count": 146,
      "outputs": []
    },
    {
      "cell_type": "code",
      "source": [
        "# Extaindo os valores novos\n",
        "arr_numerica[:,5]"
      ],
      "metadata": {
        "colab": {
          "base_uri": "https://localhost:8080/"
        },
        "id": "-g4NMTmvHL5P",
        "outputId": "7a1ed299-762d-4fc2-c5ff-766d4b8b3972"
      },
      "execution_count": 147,
      "outputs": [
        {
          "output_type": "execute_result",
          "data": {
            "text/plain": [
              "array([0.13, 0.29, 0.29, ..., 0.29, 0.17, 0.29])"
            ]
          },
          "metadata": {},
          "execution_count": 147
        }
      ]
    },
    {
      "cell_type": "markdown",
      "source": [
        "Pronto , agora para verificar se todos os valores foram preenchidos e que não há nenhum valor ausente irei fazer uma última verificação"
      ],
      "metadata": {
        "id": "ETSfjrCkJlL8"
      }
    },
    {
      "cell_type": "code",
      "source": [
        "# Verifica se tem valor ausente\n",
        "print(np.isnan(arr_numerica).sum())\n",
        "print(np.isnan(arr_strings).sum())"
      ],
      "metadata": {
        "colab": {
          "base_uri": "https://localhost:8080/"
        },
        "id": "fDdYsaIKJr_f",
        "outputId": "93d4908a-5414-4406-8b12-4f81ce6835c4"
      },
      "execution_count": 154,
      "outputs": [
        {
          "output_type": "stream",
          "name": "stdout",
          "text": [
            "0\n",
            "0\n"
          ]
        }
      ]
    },
    {
      "cell_type": "markdown",
      "source": [
        "# Conclusão"
      ],
      "metadata": {
        "id": "UOGknhKtKPiu"
      }
    },
    {
      "cell_type": "markdown",
      "source": [
        "Foi feita a limpeza dos dados utilizando apenas a biblioteca numpy e alguns conceitos de lógicas de programação. o Array de strings teve um trabalho maior devido todo o processamento com `Label encoding, Binaziração,Categorização e limpeza de strings`."
      ],
      "metadata": {
        "id": "E-fV8pZOKSQ5"
      }
    },
    {
      "cell_type": "code",
      "source": [],
      "metadata": {
        "id": "yORvdd3-QO4v"
      },
      "execution_count": null,
      "outputs": []
    }
  ],
  "metadata": {
    "colab": {
      "provenance": [],
      "toc_visible": true,
      "authorship_tag": "ABX9TyNdRNXcazND68xUMUVTulBf",
      "include_colab_link": true
    },
    "kernelspec": {
      "display_name": "Python 3",
      "name": "python3"
    },
    "language_info": {
      "name": "python"
    }
  },
  "nbformat": 4,
  "nbformat_minor": 0
}